{
 "cells": [
  {
   "cell_type": "code",
   "execution_count": 1,
   "id": "31b9414b",
   "metadata": {},
   "outputs": [
    {
     "name": "stderr",
     "output_type": "stream",
     "text": [
      "C:\\Users\\B590\\AppData\\Local\\Temp\\ipykernel_8324\\959869725.py:2: DtypeWarning: Columns (26) have mixed types. Specify dtype option on import or set low_memory=False.\n",
      "  dt = pd.read_csv(\"train.csv\")\n"
     ]
    },
    {
     "data": {
      "text/html": [
       "<div>\n",
       "<style scoped>\n",
       "    .dataframe tbody tr th:only-of-type {\n",
       "        vertical-align: middle;\n",
       "    }\n",
       "\n",
       "    .dataframe tbody tr th {\n",
       "        vertical-align: top;\n",
       "    }\n",
       "\n",
       "    .dataframe thead th {\n",
       "        text-align: right;\n",
       "    }\n",
       "</style>\n",
       "<table border=\"1\" class=\"dataframe\">\n",
       "  <thead>\n",
       "    <tr style=\"text-align: right;\">\n",
       "      <th></th>\n",
       "      <th>ID</th>\n",
       "      <th>Customer_ID</th>\n",
       "      <th>Month</th>\n",
       "      <th>Name</th>\n",
       "      <th>Age</th>\n",
       "      <th>SSN</th>\n",
       "      <th>Occupation</th>\n",
       "      <th>Annual_Income</th>\n",
       "      <th>Monthly_Inhand_Salary</th>\n",
       "      <th>Num_Bank_Accounts</th>\n",
       "      <th>...</th>\n",
       "      <th>Credit_Mix</th>\n",
       "      <th>Outstanding_Debt</th>\n",
       "      <th>Credit_Utilization_Ratio</th>\n",
       "      <th>Credit_History_Age</th>\n",
       "      <th>Payment_of_Min_Amount</th>\n",
       "      <th>Total_EMI_per_month</th>\n",
       "      <th>Amount_invested_monthly</th>\n",
       "      <th>Payment_Behaviour</th>\n",
       "      <th>Monthly_Balance</th>\n",
       "      <th>Credit_Score</th>\n",
       "    </tr>\n",
       "  </thead>\n",
       "  <tbody>\n",
       "    <tr>\n",
       "      <th>0</th>\n",
       "      <td>0x1602</td>\n",
       "      <td>CUS_0xd40</td>\n",
       "      <td>January</td>\n",
       "      <td>Aaron Maashoh</td>\n",
       "      <td>23</td>\n",
       "      <td>821-00-0265</td>\n",
       "      <td>Scientist</td>\n",
       "      <td>19114.12</td>\n",
       "      <td>1824.843333</td>\n",
       "      <td>3</td>\n",
       "      <td>...</td>\n",
       "      <td>_</td>\n",
       "      <td>809.98</td>\n",
       "      <td>26.822620</td>\n",
       "      <td>22 Years and 1 Months</td>\n",
       "      <td>No</td>\n",
       "      <td>49.574949</td>\n",
       "      <td>80.41529543900253</td>\n",
       "      <td>High_spent_Small_value_payments</td>\n",
       "      <td>312.49408867943663</td>\n",
       "      <td>Good</td>\n",
       "    </tr>\n",
       "    <tr>\n",
       "      <th>1</th>\n",
       "      <td>0x1603</td>\n",
       "      <td>CUS_0xd40</td>\n",
       "      <td>February</td>\n",
       "      <td>Aaron Maashoh</td>\n",
       "      <td>23</td>\n",
       "      <td>821-00-0265</td>\n",
       "      <td>Scientist</td>\n",
       "      <td>19114.12</td>\n",
       "      <td>NaN</td>\n",
       "      <td>3</td>\n",
       "      <td>...</td>\n",
       "      <td>Good</td>\n",
       "      <td>809.98</td>\n",
       "      <td>31.944960</td>\n",
       "      <td>NaN</td>\n",
       "      <td>No</td>\n",
       "      <td>49.574949</td>\n",
       "      <td>118.28022162236736</td>\n",
       "      <td>Low_spent_Large_value_payments</td>\n",
       "      <td>284.62916249607184</td>\n",
       "      <td>Good</td>\n",
       "    </tr>\n",
       "    <tr>\n",
       "      <th>2</th>\n",
       "      <td>0x1604</td>\n",
       "      <td>CUS_0xd40</td>\n",
       "      <td>March</td>\n",
       "      <td>Aaron Maashoh</td>\n",
       "      <td>-500</td>\n",
       "      <td>821-00-0265</td>\n",
       "      <td>Scientist</td>\n",
       "      <td>19114.12</td>\n",
       "      <td>NaN</td>\n",
       "      <td>3</td>\n",
       "      <td>...</td>\n",
       "      <td>Good</td>\n",
       "      <td>809.98</td>\n",
       "      <td>28.609352</td>\n",
       "      <td>22 Years and 3 Months</td>\n",
       "      <td>No</td>\n",
       "      <td>49.574949</td>\n",
       "      <td>81.699521264648</td>\n",
       "      <td>Low_spent_Medium_value_payments</td>\n",
       "      <td>331.2098628537912</td>\n",
       "      <td>Good</td>\n",
       "    </tr>\n",
       "    <tr>\n",
       "      <th>3</th>\n",
       "      <td>0x1605</td>\n",
       "      <td>CUS_0xd40</td>\n",
       "      <td>April</td>\n",
       "      <td>Aaron Maashoh</td>\n",
       "      <td>23</td>\n",
       "      <td>821-00-0265</td>\n",
       "      <td>Scientist</td>\n",
       "      <td>19114.12</td>\n",
       "      <td>NaN</td>\n",
       "      <td>3</td>\n",
       "      <td>...</td>\n",
       "      <td>Good</td>\n",
       "      <td>809.98</td>\n",
       "      <td>31.377862</td>\n",
       "      <td>22 Years and 4 Months</td>\n",
       "      <td>No</td>\n",
       "      <td>49.574949</td>\n",
       "      <td>199.4580743910713</td>\n",
       "      <td>Low_spent_Small_value_payments</td>\n",
       "      <td>223.45130972736786</td>\n",
       "      <td>Good</td>\n",
       "    </tr>\n",
       "    <tr>\n",
       "      <th>4</th>\n",
       "      <td>0x1606</td>\n",
       "      <td>CUS_0xd40</td>\n",
       "      <td>May</td>\n",
       "      <td>Aaron Maashoh</td>\n",
       "      <td>23</td>\n",
       "      <td>821-00-0265</td>\n",
       "      <td>Scientist</td>\n",
       "      <td>19114.12</td>\n",
       "      <td>1824.843333</td>\n",
       "      <td>3</td>\n",
       "      <td>...</td>\n",
       "      <td>Good</td>\n",
       "      <td>809.98</td>\n",
       "      <td>24.797347</td>\n",
       "      <td>22 Years and 5 Months</td>\n",
       "      <td>No</td>\n",
       "      <td>49.574949</td>\n",
       "      <td>41.420153086217326</td>\n",
       "      <td>High_spent_Medium_value_payments</td>\n",
       "      <td>341.48923103222177</td>\n",
       "      <td>Good</td>\n",
       "    </tr>\n",
       "    <tr>\n",
       "      <th>5</th>\n",
       "      <td>0x1607</td>\n",
       "      <td>CUS_0xd40</td>\n",
       "      <td>June</td>\n",
       "      <td>Aaron Maashoh</td>\n",
       "      <td>23</td>\n",
       "      <td>821-00-0265</td>\n",
       "      <td>Scientist</td>\n",
       "      <td>19114.12</td>\n",
       "      <td>NaN</td>\n",
       "      <td>3</td>\n",
       "      <td>...</td>\n",
       "      <td>Good</td>\n",
       "      <td>809.98</td>\n",
       "      <td>27.262259</td>\n",
       "      <td>22 Years and 6 Months</td>\n",
       "      <td>No</td>\n",
       "      <td>49.574949</td>\n",
       "      <td>62.430172331195294</td>\n",
       "      <td>!@9#%8</td>\n",
       "      <td>340.4792117872438</td>\n",
       "      <td>Good</td>\n",
       "    </tr>\n",
       "    <tr>\n",
       "      <th>6</th>\n",
       "      <td>0x1608</td>\n",
       "      <td>CUS_0xd40</td>\n",
       "      <td>July</td>\n",
       "      <td>Aaron Maashoh</td>\n",
       "      <td>23</td>\n",
       "      <td>821-00-0265</td>\n",
       "      <td>Scientist</td>\n",
       "      <td>19114.12</td>\n",
       "      <td>1824.843333</td>\n",
       "      <td>3</td>\n",
       "      <td>...</td>\n",
       "      <td>Good</td>\n",
       "      <td>809.98</td>\n",
       "      <td>22.537593</td>\n",
       "      <td>22 Years and 7 Months</td>\n",
       "      <td>No</td>\n",
       "      <td>49.574949</td>\n",
       "      <td>178.3440674122349</td>\n",
       "      <td>Low_spent_Small_value_payments</td>\n",
       "      <td>244.5653167062043</td>\n",
       "      <td>Good</td>\n",
       "    </tr>\n",
       "    <tr>\n",
       "      <th>7</th>\n",
       "      <td>0x1609</td>\n",
       "      <td>CUS_0xd40</td>\n",
       "      <td>August</td>\n",
       "      <td>NaN</td>\n",
       "      <td>23</td>\n",
       "      <td>#F%$D@*&amp;8</td>\n",
       "      <td>Scientist</td>\n",
       "      <td>19114.12</td>\n",
       "      <td>1824.843333</td>\n",
       "      <td>3</td>\n",
       "      <td>...</td>\n",
       "      <td>Good</td>\n",
       "      <td>809.98</td>\n",
       "      <td>23.933795</td>\n",
       "      <td>NaN</td>\n",
       "      <td>No</td>\n",
       "      <td>49.574949</td>\n",
       "      <td>24.785216509052056</td>\n",
       "      <td>High_spent_Medium_value_payments</td>\n",
       "      <td>358.12416760938714</td>\n",
       "      <td>Standard</td>\n",
       "    </tr>\n",
       "    <tr>\n",
       "      <th>8</th>\n",
       "      <td>0x160e</td>\n",
       "      <td>CUS_0x21b1</td>\n",
       "      <td>January</td>\n",
       "      <td>Rick Rothackerj</td>\n",
       "      <td>28_</td>\n",
       "      <td>004-07-5839</td>\n",
       "      <td>_______</td>\n",
       "      <td>34847.84</td>\n",
       "      <td>3037.986667</td>\n",
       "      <td>2</td>\n",
       "      <td>...</td>\n",
       "      <td>Good</td>\n",
       "      <td>605.03</td>\n",
       "      <td>24.464031</td>\n",
       "      <td>26 Years and 7 Months</td>\n",
       "      <td>No</td>\n",
       "      <td>18.816215</td>\n",
       "      <td>104.291825168246</td>\n",
       "      <td>Low_spent_Small_value_payments</td>\n",
       "      <td>470.69062692529184</td>\n",
       "      <td>Standard</td>\n",
       "    </tr>\n",
       "    <tr>\n",
       "      <th>9</th>\n",
       "      <td>0x160f</td>\n",
       "      <td>CUS_0x21b1</td>\n",
       "      <td>February</td>\n",
       "      <td>Rick Rothackerj</td>\n",
       "      <td>28</td>\n",
       "      <td>004-07-5839</td>\n",
       "      <td>Teacher</td>\n",
       "      <td>34847.84</td>\n",
       "      <td>3037.986667</td>\n",
       "      <td>2</td>\n",
       "      <td>...</td>\n",
       "      <td>Good</td>\n",
       "      <td>605.03</td>\n",
       "      <td>38.550848</td>\n",
       "      <td>26 Years and 8 Months</td>\n",
       "      <td>No</td>\n",
       "      <td>18.816215</td>\n",
       "      <td>40.39123782853101</td>\n",
       "      <td>High_spent_Large_value_payments</td>\n",
       "      <td>484.5912142650067</td>\n",
       "      <td>Good</td>\n",
       "    </tr>\n",
       "    <tr>\n",
       "      <th>10</th>\n",
       "      <td>0x1610</td>\n",
       "      <td>CUS_0x21b1</td>\n",
       "      <td>March</td>\n",
       "      <td>Rick Rothackerj</td>\n",
       "      <td>28</td>\n",
       "      <td>004-07-5839</td>\n",
       "      <td>Teacher</td>\n",
       "      <td>34847.84_</td>\n",
       "      <td>3037.986667</td>\n",
       "      <td>2</td>\n",
       "      <td>...</td>\n",
       "      <td>_</td>\n",
       "      <td>605.03</td>\n",
       "      <td>33.224951</td>\n",
       "      <td>26 Years and 9 Months</td>\n",
       "      <td>No</td>\n",
       "      <td>18.816215</td>\n",
       "      <td>58.51597569589465</td>\n",
       "      <td>High_spent_Large_value_payments</td>\n",
       "      <td>466.46647639764313</td>\n",
       "      <td>Standard</td>\n",
       "    </tr>\n",
       "    <tr>\n",
       "      <th>11</th>\n",
       "      <td>0x1611</td>\n",
       "      <td>CUS_0x21b1</td>\n",
       "      <td>April</td>\n",
       "      <td>Rick Rothackerj</td>\n",
       "      <td>28</td>\n",
       "      <td>004-07-5839</td>\n",
       "      <td>Teacher</td>\n",
       "      <td>34847.84</td>\n",
       "      <td>NaN</td>\n",
       "      <td>2</td>\n",
       "      <td>...</td>\n",
       "      <td>Good</td>\n",
       "      <td>605.03</td>\n",
       "      <td>39.182656</td>\n",
       "      <td>26 Years and 10 Months</td>\n",
       "      <td>No</td>\n",
       "      <td>18.816215</td>\n",
       "      <td>99.30622796053305</td>\n",
       "      <td>Low_spent_Medium_value_payments</td>\n",
       "      <td>465.6762241330048</td>\n",
       "      <td>Good</td>\n",
       "    </tr>\n",
       "    <tr>\n",
       "      <th>12</th>\n",
       "      <td>0x1612</td>\n",
       "      <td>CUS_0x21b1</td>\n",
       "      <td>May</td>\n",
       "      <td>Rick Rothackerj</td>\n",
       "      <td>28</td>\n",
       "      <td>004-07-5839</td>\n",
       "      <td>Teacher</td>\n",
       "      <td>34847.84</td>\n",
       "      <td>3037.986667</td>\n",
       "      <td>2</td>\n",
       "      <td>...</td>\n",
       "      <td>Good</td>\n",
       "      <td>605.03</td>\n",
       "      <td>34.977895</td>\n",
       "      <td>26 Years and 11 Months</td>\n",
       "      <td>No</td>\n",
       "      <td>18.816215</td>\n",
       "      <td>130.11542024292334</td>\n",
       "      <td>Low_spent_Small_value_payments</td>\n",
       "      <td>444.8670318506144</td>\n",
       "      <td>Good</td>\n",
       "    </tr>\n",
       "    <tr>\n",
       "      <th>13</th>\n",
       "      <td>0x1613</td>\n",
       "      <td>CUS_0x21b1</td>\n",
       "      <td>June</td>\n",
       "      <td>Rick Rothackerj</td>\n",
       "      <td>28</td>\n",
       "      <td>004-07-5839</td>\n",
       "      <td>Teacher</td>\n",
       "      <td>34847.84</td>\n",
       "      <td>3037.986667</td>\n",
       "      <td>2</td>\n",
       "      <td>...</td>\n",
       "      <td>Good</td>\n",
       "      <td>605.03</td>\n",
       "      <td>33.381010</td>\n",
       "      <td>27 Years and 0 Months</td>\n",
       "      <td>No</td>\n",
       "      <td>18.816215</td>\n",
       "      <td>43.477190144355745</td>\n",
       "      <td>High_spent_Large_value_payments</td>\n",
       "      <td>481.505261949182</td>\n",
       "      <td>Good</td>\n",
       "    </tr>\n",
       "    <tr>\n",
       "      <th>14</th>\n",
       "      <td>0x1614</td>\n",
       "      <td>CUS_0x21b1</td>\n",
       "      <td>July</td>\n",
       "      <td>Rick Rothackerj</td>\n",
       "      <td>28</td>\n",
       "      <td>004-07-5839</td>\n",
       "      <td>Teacher</td>\n",
       "      <td>34847.84</td>\n",
       "      <td>NaN</td>\n",
       "      <td>2</td>\n",
       "      <td>...</td>\n",
       "      <td>Good</td>\n",
       "      <td>605.03</td>\n",
       "      <td>31.131702</td>\n",
       "      <td>27 Years and 1 Months</td>\n",
       "      <td>NM</td>\n",
       "      <td>18.816215</td>\n",
       "      <td>70.10177420755677</td>\n",
       "      <td>High_spent_Medium_value_payments</td>\n",
       "      <td>464.8806778859809</td>\n",
       "      <td>Good</td>\n",
       "    </tr>\n",
       "    <tr>\n",
       "      <th>15</th>\n",
       "      <td>0x1615</td>\n",
       "      <td>CUS_0x21b1</td>\n",
       "      <td>August</td>\n",
       "      <td>Rick Rothackerj</td>\n",
       "      <td>28</td>\n",
       "      <td>004-07-5839</td>\n",
       "      <td>Teacher</td>\n",
       "      <td>34847.84</td>\n",
       "      <td>3037.986667</td>\n",
       "      <td>2</td>\n",
       "      <td>...</td>\n",
       "      <td>Good</td>\n",
       "      <td>605.03</td>\n",
       "      <td>32.933856</td>\n",
       "      <td>27 Years and 2 Months</td>\n",
       "      <td>No</td>\n",
       "      <td>18.816215</td>\n",
       "      <td>218.90434353388733</td>\n",
       "      <td>Low_spent_Small_value_payments</td>\n",
       "      <td>356.07810855965045</td>\n",
       "      <td>Good</td>\n",
       "    </tr>\n",
       "    <tr>\n",
       "      <th>16</th>\n",
       "      <td>0x161a</td>\n",
       "      <td>CUS_0x2dbc</td>\n",
       "      <td>January</td>\n",
       "      <td>Langep</td>\n",
       "      <td>34</td>\n",
       "      <td>486-85-3974</td>\n",
       "      <td>_______</td>\n",
       "      <td>143162.64</td>\n",
       "      <td>12187.220000</td>\n",
       "      <td>1</td>\n",
       "      <td>...</td>\n",
       "      <td>Good</td>\n",
       "      <td>1303.01</td>\n",
       "      <td>28.616735</td>\n",
       "      <td>17 Years and 9 Months</td>\n",
       "      <td>No</td>\n",
       "      <td>246.992319</td>\n",
       "      <td>168.413702679309</td>\n",
       "      <td>!@9#%8</td>\n",
       "      <td>1043.3159778669492</td>\n",
       "      <td>Good</td>\n",
       "    </tr>\n",
       "    <tr>\n",
       "      <th>17</th>\n",
       "      <td>0x161b</td>\n",
       "      <td>CUS_0x2dbc</td>\n",
       "      <td>February</td>\n",
       "      <td>NaN</td>\n",
       "      <td>34</td>\n",
       "      <td>486-85-3974</td>\n",
       "      <td>Engineer</td>\n",
       "      <td>143162.64</td>\n",
       "      <td>12187.220000</td>\n",
       "      <td>1</td>\n",
       "      <td>...</td>\n",
       "      <td>Good</td>\n",
       "      <td>1303.01</td>\n",
       "      <td>41.702573</td>\n",
       "      <td>17 Years and 10 Months</td>\n",
       "      <td>No</td>\n",
       "      <td>246.992319</td>\n",
       "      <td>232.86038375993544</td>\n",
       "      <td>High_spent_Small_value_payments</td>\n",
       "      <td>998.8692967863226</td>\n",
       "      <td>Good</td>\n",
       "    </tr>\n",
       "    <tr>\n",
       "      <th>18</th>\n",
       "      <td>0x161c</td>\n",
       "      <td>CUS_0x2dbc</td>\n",
       "      <td>March</td>\n",
       "      <td>Langep</td>\n",
       "      <td>34</td>\n",
       "      <td>486-85-3974</td>\n",
       "      <td>_______</td>\n",
       "      <td>143162.64</td>\n",
       "      <td>NaN</td>\n",
       "      <td>1</td>\n",
       "      <td>...</td>\n",
       "      <td>Good</td>\n",
       "      <td>1303.01</td>\n",
       "      <td>26.519815</td>\n",
       "      <td>17 Years and 11 Months</td>\n",
       "      <td>No</td>\n",
       "      <td>246.992319</td>\n",
       "      <td>__10000__</td>\n",
       "      <td>High_spent_Small_value_payments</td>\n",
       "      <td>715.741367403555</td>\n",
       "      <td>Good</td>\n",
       "    </tr>\n",
       "    <tr>\n",
       "      <th>19</th>\n",
       "      <td>0x161d</td>\n",
       "      <td>CUS_0x2dbc</td>\n",
       "      <td>April</td>\n",
       "      <td>Langep</td>\n",
       "      <td>34</td>\n",
       "      <td>486-85-3974</td>\n",
       "      <td>Engineer</td>\n",
       "      <td>143162.64</td>\n",
       "      <td>12187.220000</td>\n",
       "      <td>1</td>\n",
       "      <td>...</td>\n",
       "      <td>_</td>\n",
       "      <td>1303.01</td>\n",
       "      <td>39.501648</td>\n",
       "      <td>NaN</td>\n",
       "      <td>No</td>\n",
       "      <td>246.992319</td>\n",
       "      <td>825.2162699393922</td>\n",
       "      <td>Low_spent_Medium_value_payments</td>\n",
       "      <td>426.5134106068658</td>\n",
       "      <td>Good</td>\n",
       "    </tr>\n",
       "  </tbody>\n",
       "</table>\n",
       "<p>20 rows × 28 columns</p>\n",
       "</div>"
      ],
      "text/plain": [
       "        ID Customer_ID     Month             Name   Age          SSN  \\\n",
       "0   0x1602   CUS_0xd40   January    Aaron Maashoh    23  821-00-0265   \n",
       "1   0x1603   CUS_0xd40  February    Aaron Maashoh    23  821-00-0265   \n",
       "2   0x1604   CUS_0xd40     March    Aaron Maashoh  -500  821-00-0265   \n",
       "3   0x1605   CUS_0xd40     April    Aaron Maashoh    23  821-00-0265   \n",
       "4   0x1606   CUS_0xd40       May    Aaron Maashoh    23  821-00-0265   \n",
       "5   0x1607   CUS_0xd40      June    Aaron Maashoh    23  821-00-0265   \n",
       "6   0x1608   CUS_0xd40      July    Aaron Maashoh    23  821-00-0265   \n",
       "7   0x1609   CUS_0xd40    August              NaN    23    #F%$D@*&8   \n",
       "8   0x160e  CUS_0x21b1   January  Rick Rothackerj   28_  004-07-5839   \n",
       "9   0x160f  CUS_0x21b1  February  Rick Rothackerj    28  004-07-5839   \n",
       "10  0x1610  CUS_0x21b1     March  Rick Rothackerj    28  004-07-5839   \n",
       "11  0x1611  CUS_0x21b1     April  Rick Rothackerj    28  004-07-5839   \n",
       "12  0x1612  CUS_0x21b1       May  Rick Rothackerj    28  004-07-5839   \n",
       "13  0x1613  CUS_0x21b1      June  Rick Rothackerj    28  004-07-5839   \n",
       "14  0x1614  CUS_0x21b1      July  Rick Rothackerj    28  004-07-5839   \n",
       "15  0x1615  CUS_0x21b1    August  Rick Rothackerj    28  004-07-5839   \n",
       "16  0x161a  CUS_0x2dbc   January           Langep    34  486-85-3974   \n",
       "17  0x161b  CUS_0x2dbc  February              NaN    34  486-85-3974   \n",
       "18  0x161c  CUS_0x2dbc     March           Langep    34  486-85-3974   \n",
       "19  0x161d  CUS_0x2dbc     April           Langep    34  486-85-3974   \n",
       "\n",
       "   Occupation Annual_Income  Monthly_Inhand_Salary  Num_Bank_Accounts  ...  \\\n",
       "0   Scientist      19114.12            1824.843333                  3  ...   \n",
       "1   Scientist      19114.12                    NaN                  3  ...   \n",
       "2   Scientist      19114.12                    NaN                  3  ...   \n",
       "3   Scientist      19114.12                    NaN                  3  ...   \n",
       "4   Scientist      19114.12            1824.843333                  3  ...   \n",
       "5   Scientist      19114.12                    NaN                  3  ...   \n",
       "6   Scientist      19114.12            1824.843333                  3  ...   \n",
       "7   Scientist      19114.12            1824.843333                  3  ...   \n",
       "8     _______      34847.84            3037.986667                  2  ...   \n",
       "9     Teacher      34847.84            3037.986667                  2  ...   \n",
       "10    Teacher     34847.84_            3037.986667                  2  ...   \n",
       "11    Teacher      34847.84                    NaN                  2  ...   \n",
       "12    Teacher      34847.84            3037.986667                  2  ...   \n",
       "13    Teacher      34847.84            3037.986667                  2  ...   \n",
       "14    Teacher      34847.84                    NaN                  2  ...   \n",
       "15    Teacher      34847.84            3037.986667                  2  ...   \n",
       "16    _______     143162.64           12187.220000                  1  ...   \n",
       "17   Engineer     143162.64           12187.220000                  1  ...   \n",
       "18    _______     143162.64                    NaN                  1  ...   \n",
       "19   Engineer     143162.64           12187.220000                  1  ...   \n",
       "\n",
       "    Credit_Mix  Outstanding_Debt Credit_Utilization_Ratio  \\\n",
       "0            _            809.98                26.822620   \n",
       "1         Good            809.98                31.944960   \n",
       "2         Good            809.98                28.609352   \n",
       "3         Good            809.98                31.377862   \n",
       "4         Good            809.98                24.797347   \n",
       "5         Good            809.98                27.262259   \n",
       "6         Good            809.98                22.537593   \n",
       "7         Good            809.98                23.933795   \n",
       "8         Good            605.03                24.464031   \n",
       "9         Good            605.03                38.550848   \n",
       "10           _            605.03                33.224951   \n",
       "11        Good            605.03                39.182656   \n",
       "12        Good            605.03                34.977895   \n",
       "13        Good            605.03                33.381010   \n",
       "14        Good            605.03                31.131702   \n",
       "15        Good            605.03                32.933856   \n",
       "16        Good           1303.01                28.616735   \n",
       "17        Good           1303.01                41.702573   \n",
       "18        Good           1303.01                26.519815   \n",
       "19           _           1303.01                39.501648   \n",
       "\n",
       "        Credit_History_Age  Payment_of_Min_Amount Total_EMI_per_month  \\\n",
       "0    22 Years and 1 Months                     No           49.574949   \n",
       "1                      NaN                     No           49.574949   \n",
       "2    22 Years and 3 Months                     No           49.574949   \n",
       "3    22 Years and 4 Months                     No           49.574949   \n",
       "4    22 Years and 5 Months                     No           49.574949   \n",
       "5    22 Years and 6 Months                     No           49.574949   \n",
       "6    22 Years and 7 Months                     No           49.574949   \n",
       "7                      NaN                     No           49.574949   \n",
       "8    26 Years and 7 Months                     No           18.816215   \n",
       "9    26 Years and 8 Months                     No           18.816215   \n",
       "10   26 Years and 9 Months                     No           18.816215   \n",
       "11  26 Years and 10 Months                     No           18.816215   \n",
       "12  26 Years and 11 Months                     No           18.816215   \n",
       "13   27 Years and 0 Months                     No           18.816215   \n",
       "14   27 Years and 1 Months                     NM           18.816215   \n",
       "15   27 Years and 2 Months                     No           18.816215   \n",
       "16   17 Years and 9 Months                     No          246.992319   \n",
       "17  17 Years and 10 Months                     No          246.992319   \n",
       "18  17 Years and 11 Months                     No          246.992319   \n",
       "19                     NaN                     No          246.992319   \n",
       "\n",
       "   Amount_invested_monthly                 Payment_Behaviour  \\\n",
       "0        80.41529543900253   High_spent_Small_value_payments   \n",
       "1       118.28022162236736    Low_spent_Large_value_payments   \n",
       "2          81.699521264648   Low_spent_Medium_value_payments   \n",
       "3        199.4580743910713    Low_spent_Small_value_payments   \n",
       "4       41.420153086217326  High_spent_Medium_value_payments   \n",
       "5       62.430172331195294                            !@9#%8   \n",
       "6        178.3440674122349    Low_spent_Small_value_payments   \n",
       "7       24.785216509052056  High_spent_Medium_value_payments   \n",
       "8         104.291825168246    Low_spent_Small_value_payments   \n",
       "9        40.39123782853101   High_spent_Large_value_payments   \n",
       "10       58.51597569589465   High_spent_Large_value_payments   \n",
       "11       99.30622796053305   Low_spent_Medium_value_payments   \n",
       "12      130.11542024292334    Low_spent_Small_value_payments   \n",
       "13      43.477190144355745   High_spent_Large_value_payments   \n",
       "14       70.10177420755677  High_spent_Medium_value_payments   \n",
       "15      218.90434353388733    Low_spent_Small_value_payments   \n",
       "16        168.413702679309                            !@9#%8   \n",
       "17      232.86038375993544   High_spent_Small_value_payments   \n",
       "18               __10000__   High_spent_Small_value_payments   \n",
       "19       825.2162699393922   Low_spent_Medium_value_payments   \n",
       "\n",
       "       Monthly_Balance Credit_Score  \n",
       "0   312.49408867943663         Good  \n",
       "1   284.62916249607184         Good  \n",
       "2    331.2098628537912         Good  \n",
       "3   223.45130972736786         Good  \n",
       "4   341.48923103222177         Good  \n",
       "5    340.4792117872438         Good  \n",
       "6    244.5653167062043         Good  \n",
       "7   358.12416760938714     Standard  \n",
       "8   470.69062692529184     Standard  \n",
       "9    484.5912142650067         Good  \n",
       "10  466.46647639764313     Standard  \n",
       "11   465.6762241330048         Good  \n",
       "12   444.8670318506144         Good  \n",
       "13    481.505261949182         Good  \n",
       "14   464.8806778859809         Good  \n",
       "15  356.07810855965045         Good  \n",
       "16  1043.3159778669492         Good  \n",
       "17   998.8692967863226         Good  \n",
       "18    715.741367403555         Good  \n",
       "19   426.5134106068658         Good  \n",
       "\n",
       "[20 rows x 28 columns]"
      ]
     },
     "execution_count": 1,
     "metadata": {},
     "output_type": "execute_result"
    }
   ],
   "source": [
    "import pandas as pd\n",
    "dt = pd.read_csv(\"train.csv\")\n",
    "dt.head(20)"
   ]
  },
  {
   "cell_type": "code",
   "execution_count": 4,
   "id": "276c28d5-4980-4a60-91af-dc87d79f6dd5",
   "metadata": {},
   "outputs": [
    {
     "data": {
      "text/html": [
       "<div>\n",
       "<style scoped>\n",
       "    .dataframe tbody tr th:only-of-type {\n",
       "        vertical-align: middle;\n",
       "    }\n",
       "\n",
       "    .dataframe tbody tr th {\n",
       "        vertical-align: top;\n",
       "    }\n",
       "\n",
       "    .dataframe thead th {\n",
       "        text-align: right;\n",
       "    }\n",
       "</style>\n",
       "<table border=\"1\" class=\"dataframe\">\n",
       "  <thead>\n",
       "    <tr style=\"text-align: right;\">\n",
       "      <th></th>\n",
       "      <th>Monthly_Inhand_Salary</th>\n",
       "      <th>Num_Bank_Accounts</th>\n",
       "      <th>Num_Credit_Card</th>\n",
       "      <th>Interest_Rate</th>\n",
       "      <th>Delay_from_due_date</th>\n",
       "      <th>Num_Credit_Inquiries</th>\n",
       "      <th>Credit_Utilization_Ratio</th>\n",
       "      <th>Total_EMI_per_month</th>\n",
       "    </tr>\n",
       "  </thead>\n",
       "  <tbody>\n",
       "    <tr>\n",
       "      <th>count</th>\n",
       "      <td>84998.000000</td>\n",
       "      <td>100000.000000</td>\n",
       "      <td>100000.00000</td>\n",
       "      <td>100000.000000</td>\n",
       "      <td>100000.000000</td>\n",
       "      <td>98035.000000</td>\n",
       "      <td>100000.000000</td>\n",
       "      <td>100000.000000</td>\n",
       "    </tr>\n",
       "    <tr>\n",
       "      <th>mean</th>\n",
       "      <td>4194.170850</td>\n",
       "      <td>17.091280</td>\n",
       "      <td>22.47443</td>\n",
       "      <td>72.466040</td>\n",
       "      <td>21.068780</td>\n",
       "      <td>27.754251</td>\n",
       "      <td>32.285173</td>\n",
       "      <td>1403.118217</td>\n",
       "    </tr>\n",
       "    <tr>\n",
       "      <th>std</th>\n",
       "      <td>3183.686167</td>\n",
       "      <td>117.404834</td>\n",
       "      <td>129.05741</td>\n",
       "      <td>466.422621</td>\n",
       "      <td>14.860104</td>\n",
       "      <td>193.177339</td>\n",
       "      <td>5.116875</td>\n",
       "      <td>8306.041270</td>\n",
       "    </tr>\n",
       "    <tr>\n",
       "      <th>min</th>\n",
       "      <td>303.645417</td>\n",
       "      <td>-1.000000</td>\n",
       "      <td>0.00000</td>\n",
       "      <td>1.000000</td>\n",
       "      <td>-5.000000</td>\n",
       "      <td>0.000000</td>\n",
       "      <td>20.000000</td>\n",
       "      <td>0.000000</td>\n",
       "    </tr>\n",
       "    <tr>\n",
       "      <th>25%</th>\n",
       "      <td>1625.568229</td>\n",
       "      <td>3.000000</td>\n",
       "      <td>4.00000</td>\n",
       "      <td>8.000000</td>\n",
       "      <td>10.000000</td>\n",
       "      <td>3.000000</td>\n",
       "      <td>28.052567</td>\n",
       "      <td>30.306660</td>\n",
       "    </tr>\n",
       "    <tr>\n",
       "      <th>50%</th>\n",
       "      <td>3093.745000</td>\n",
       "      <td>6.000000</td>\n",
       "      <td>5.00000</td>\n",
       "      <td>13.000000</td>\n",
       "      <td>18.000000</td>\n",
       "      <td>6.000000</td>\n",
       "      <td>32.305784</td>\n",
       "      <td>69.249473</td>\n",
       "    </tr>\n",
       "    <tr>\n",
       "      <th>75%</th>\n",
       "      <td>5957.448333</td>\n",
       "      <td>7.000000</td>\n",
       "      <td>7.00000</td>\n",
       "      <td>20.000000</td>\n",
       "      <td>28.000000</td>\n",
       "      <td>9.000000</td>\n",
       "      <td>36.496663</td>\n",
       "      <td>161.224249</td>\n",
       "    </tr>\n",
       "    <tr>\n",
       "      <th>max</th>\n",
       "      <td>15204.633333</td>\n",
       "      <td>1798.000000</td>\n",
       "      <td>1499.00000</td>\n",
       "      <td>5797.000000</td>\n",
       "      <td>67.000000</td>\n",
       "      <td>2597.000000</td>\n",
       "      <td>50.000000</td>\n",
       "      <td>82331.000000</td>\n",
       "    </tr>\n",
       "  </tbody>\n",
       "</table>\n",
       "</div>"
      ],
      "text/plain": [
       "       Monthly_Inhand_Salary  Num_Bank_Accounts  Num_Credit_Card  \\\n",
       "count           84998.000000      100000.000000     100000.00000   \n",
       "mean             4194.170850          17.091280         22.47443   \n",
       "std              3183.686167         117.404834        129.05741   \n",
       "min               303.645417          -1.000000          0.00000   \n",
       "25%              1625.568229           3.000000          4.00000   \n",
       "50%              3093.745000           6.000000          5.00000   \n",
       "75%              5957.448333           7.000000          7.00000   \n",
       "max             15204.633333        1798.000000       1499.00000   \n",
       "\n",
       "       Interest_Rate  Delay_from_due_date  Num_Credit_Inquiries  \\\n",
       "count  100000.000000        100000.000000          98035.000000   \n",
       "mean       72.466040            21.068780             27.754251   \n",
       "std       466.422621            14.860104            193.177339   \n",
       "min         1.000000            -5.000000              0.000000   \n",
       "25%         8.000000            10.000000              3.000000   \n",
       "50%        13.000000            18.000000              6.000000   \n",
       "75%        20.000000            28.000000              9.000000   \n",
       "max      5797.000000            67.000000           2597.000000   \n",
       "\n",
       "       Credit_Utilization_Ratio  Total_EMI_per_month  \n",
       "count             100000.000000        100000.000000  \n",
       "mean                  32.285173          1403.118217  \n",
       "std                    5.116875          8306.041270  \n",
       "min                   20.000000             0.000000  \n",
       "25%                   28.052567            30.306660  \n",
       "50%                   32.305784            69.249473  \n",
       "75%                   36.496663           161.224249  \n",
       "max                   50.000000         82331.000000  "
      ]
     },
     "execution_count": 4,
     "metadata": {},
     "output_type": "execute_result"
    }
   ],
   "source": [
    "dt.describe()"
   ]
  },
  {
   "cell_type": "markdown",
   "id": "ebf214df",
   "metadata": {},
   "source": [
    "From the row data we observe the following:\n",
    "- probably each customer has 8 entities, one for each month from January to August.\n",
    "- some erroneus values, such as age = -500 or SSN= #F%$D@*&8, can be replaced with the correct ones by propagating values forward or backward.\n",
    "- some missing values could be dealt on the same way.\n",
    "- columns with categorical values must be encoded. "
   ]
  },
  {
   "cell_type": "code",
   "execution_count": 5,
   "id": "cdb732c5",
   "metadata": {},
   "outputs": [
    {
     "data": {
      "text/plain": [
       "True"
      ]
     },
     "execution_count": 5,
     "metadata": {},
     "output_type": "execute_result"
    }
   ],
   "source": [
    "# check the first hypothesis\n",
    "\n",
    "(dt.groupby(\"Customer_ID\")[\"Month\"].count() == 8).all()"
   ]
  },
  {
   "cell_type": "code",
   "execution_count": 7,
   "id": "c90f9a6d",
   "metadata": {},
   "outputs": [
    {
     "data": {
      "text/plain": [
       "January     12500\n",
       "February    12500\n",
       "March       12500\n",
       "April       12500\n",
       "May         12500\n",
       "June        12500\n",
       "July        12500\n",
       "August      12500\n",
       "Name: Month, dtype: int64"
      ]
     },
     "execution_count": 7,
     "metadata": {},
     "output_type": "execute_result"
    }
   ],
   "source": [
    "dt[\"Month\"].value_counts()"
   ]
  },
  {
   "cell_type": "markdown",
   "id": "204cb783",
   "metadata": {},
   "source": [
    "So, the hypothesis is TRUE.\n",
    "Each customer has 8 entities from January to August."
   ]
  },
  {
   "cell_type": "code",
   "execution_count": 2,
   "id": "46e8ca2d",
   "metadata": {},
   "outputs": [
    {
     "name": "stdout",
     "output_type": "stream",
     "text": [
      "Number of rows:  100000\n",
      "\n",
      "Number of features: 28\n",
      "<class 'pandas.core.frame.DataFrame'>\n",
      "RangeIndex: 100000 entries, 0 to 99999\n",
      "Data columns (total 28 columns):\n",
      " #   Column                    Non-Null Count   Dtype  \n",
      "---  ------                    --------------   -----  \n",
      " 0   ID                        100000 non-null  object \n",
      " 1   Customer_ID               100000 non-null  object \n",
      " 2   Month                     100000 non-null  object \n",
      " 3   Name                      90015 non-null   object \n",
      " 4   Age                       100000 non-null  object \n",
      " 5   SSN                       100000 non-null  object \n",
      " 6   Occupation                100000 non-null  object \n",
      " 7   Annual_Income             100000 non-null  object \n",
      " 8   Monthly_Inhand_Salary     84998 non-null   float64\n",
      " 9   Num_Bank_Accounts         100000 non-null  int64  \n",
      " 10  Num_Credit_Card           100000 non-null  int64  \n",
      " 11  Interest_Rate             100000 non-null  int64  \n",
      " 12  Num_of_Loan               100000 non-null  object \n",
      " 13  Type_of_Loan              88592 non-null   object \n",
      " 14  Delay_from_due_date       100000 non-null  int64  \n",
      " 15  Num_of_Delayed_Payment    92998 non-null   object \n",
      " 16  Changed_Credit_Limit      100000 non-null  object \n",
      " 17  Num_Credit_Inquiries      98035 non-null   float64\n",
      " 18  Credit_Mix                100000 non-null  object \n",
      " 19  Outstanding_Debt          100000 non-null  object \n",
      " 20  Credit_Utilization_Ratio  100000 non-null  float64\n",
      " 21  Credit_History_Age        90970 non-null   object \n",
      " 22  Payment_of_Min_Amount     100000 non-null  object \n",
      " 23  Total_EMI_per_month       100000 non-null  float64\n",
      " 24  Amount_invested_monthly   95521 non-null   object \n",
      " 25  Payment_Behaviour         100000 non-null  object \n",
      " 26  Monthly_Balance           98800 non-null   object \n",
      " 27  Credit_Score              100000 non-null  object \n",
      "dtypes: float64(4), int64(4), object(20)\n",
      "memory usage: 21.4+ MB\n",
      "None\n",
      "\n",
      "Missing values: 60071\n",
      "\n",
      "Number of duplicated rows:  0\n",
      "\n",
      "Unique values of ID are :  100000\n",
      "\n",
      "Unique values of Customer_ID are :  12500\n",
      "\n",
      "Unique values of Month are :  8\n",
      "\n",
      "Unique values of Name are :  10140\n",
      "\n",
      "Unique values of Age are :  1788\n",
      "\n",
      "Unique values of SSN are :  12501\n",
      "\n",
      "Unique values of Occupation are :  16\n",
      "\n",
      "Unique values of Annual_Income are :  18940\n",
      "\n",
      "Unique values of Monthly_Inhand_Salary are :  13236\n",
      "\n",
      "Unique values of Num_Bank_Accounts are :  943\n",
      "\n",
      "Unique values of Num_Credit_Card are :  1179\n",
      "\n",
      "Unique values of Interest_Rate are :  1750\n",
      "\n",
      "Unique values of Num_of_Loan are :  434\n",
      "\n",
      "Unique values of Type_of_Loan are :  6261\n",
      "\n",
      "Unique values of Delay_from_due_date are :  73\n",
      "\n",
      "Unique values of Num_of_Delayed_Payment are :  750\n",
      "\n",
      "Unique values of Changed_Credit_Limit are :  4384\n",
      "\n",
      "Unique values of Num_Credit_Inquiries are :  1224\n",
      "\n",
      "Unique values of Credit_Mix are :  4\n",
      "\n",
      "Unique values of Outstanding_Debt are :  13178\n",
      "\n",
      "Unique values of Credit_Utilization_Ratio are :  100000\n",
      "\n",
      "Unique values of Credit_History_Age are :  405\n",
      "\n",
      "Unique values of Payment_of_Min_Amount are :  3\n",
      "\n",
      "Unique values of Total_EMI_per_month are :  14950\n",
      "\n",
      "Unique values of Amount_invested_monthly are :  91050\n",
      "\n",
      "Unique values of Payment_Behaviour are :  7\n",
      "\n",
      "Unique values of Monthly_Balance are :  98793\n",
      "\n",
      "Unique values of Credit_Score are :  3\n"
     ]
    }
   ],
   "source": [
    "def overview(df):\n",
    "    \n",
    "    print('Number of rows: ', df.shape[0])\n",
    "    print(\"\\nNumber of features:\", df.shape[1])\n",
    "    print(df.info())\n",
    "    print(\"\\nMissing values:\", df.isnull().sum().values.sum())\n",
    "    print(\"\\nNumber of duplicated rows: \",df.duplicated().sum())\n",
    "    \n",
    "    for col in df.columns:\n",
    "        print('\\nUnique values of',col, 'are : ',len(df[col].unique()))\n",
    "        \n",
    "    \n",
    "    \n",
    "overview(dt)    "
   ]
  },
  {
   "cell_type": "markdown",
   "id": "e2d2534a",
   "metadata": {},
   "source": [
    "START BY CLEANING NUMERICAL COLUMNS "
   ]
  },
  {
   "cell_type": "markdown",
   "id": "d7029fe0",
   "metadata": {},
   "source": [
    "1. \"Age\" PREPROCESSING"
   ]
  },
  {
   "cell_type": "code",
   "execution_count": 3,
   "id": "5d03edbe",
   "metadata": {},
   "outputs": [],
   "source": [
    "dt[\"Age\"] = pd.to_numeric(dt[\"Age\"], errors='coerce',downcast='signed') #convert dtype to float"
   ]
  },
  {
   "cell_type": "code",
   "execution_count": 30,
   "id": "cec2ba08",
   "metadata": {},
   "outputs": [
    {
     "data": {
      "text/plain": [
       "102.0     1\n",
       "109.0     1\n",
       "111.0     1\n",
       "112.0     1\n",
       "115.0     1\n",
       "         ..\n",
       "8674.0    1\n",
       "8678.0    1\n",
       "8682.0    1\n",
       "8697.0    1\n",
       "8698.0    1\n",
       "Name: Age, Length: 1614, dtype: int64"
      ]
     },
     "execution_count": 30,
     "metadata": {},
     "output_type": "execute_result"
    }
   ],
   "source": [
    "dt[dt['Age']>100]['Age'].value_counts().sort_index(ascending=True)"
   ]
  },
  {
   "cell_type": "code",
   "execution_count": 31,
   "id": "b424ad37",
   "metadata": {},
   "outputs": [
    {
     "data": {
      "text/plain": [
       "-500.0    886\n",
       "Name: Age, dtype: int64"
      ]
     },
     "execution_count": 31,
     "metadata": {},
     "output_type": "execute_result"
    }
   ],
   "source": [
    "dt[dt['Age']<0]['Age'].value_counts().sort_index(ascending=True)"
   ]
  },
  {
   "cell_type": "markdown",
   "id": "c90241f3",
   "metadata": {},
   "source": [
    "There are around 2500 rows with error ages. "
   ]
  },
  {
   "cell_type": "code",
   "execution_count": 32,
   "id": "2fcf378e",
   "metadata": {},
   "outputs": [
    {
     "data": {
      "text/html": [
       "<div>\n",
       "<style scoped>\n",
       "    .dataframe tbody tr th:only-of-type {\n",
       "        vertical-align: middle;\n",
       "    }\n",
       "\n",
       "    .dataframe tbody tr th {\n",
       "        vertical-align: top;\n",
       "    }\n",
       "\n",
       "    .dataframe thead th {\n",
       "        text-align: right;\n",
       "    }\n",
       "</style>\n",
       "<table border=\"1\" class=\"dataframe\">\n",
       "  <thead>\n",
       "    <tr style=\"text-align: right;\">\n",
       "      <th></th>\n",
       "      <th>ID</th>\n",
       "      <th>Customer_ID</th>\n",
       "      <th>Month</th>\n",
       "      <th>Name</th>\n",
       "      <th>Age</th>\n",
       "      <th>SSN</th>\n",
       "      <th>Occupation</th>\n",
       "      <th>Annual_Income</th>\n",
       "      <th>Monthly_Inhand_Salary</th>\n",
       "      <th>Num_Bank_Accounts</th>\n",
       "      <th>...</th>\n",
       "      <th>Credit_Mix</th>\n",
       "      <th>Outstanding_Debt</th>\n",
       "      <th>Credit_Utilization_Ratio</th>\n",
       "      <th>Credit_History_Age</th>\n",
       "      <th>Payment_of_Min_Amount</th>\n",
       "      <th>Total_EMI_per_month</th>\n",
       "      <th>Amount_invested_monthly</th>\n",
       "      <th>Payment_Behaviour</th>\n",
       "      <th>Monthly_Balance</th>\n",
       "      <th>Credit_Score</th>\n",
       "    </tr>\n",
       "  </thead>\n",
       "  <tbody>\n",
       "    <tr>\n",
       "      <th>71732</th>\n",
       "      <td>0x1ba4e</td>\n",
       "      <td>CUS_0x3909</td>\n",
       "      <td>May</td>\n",
       "      <td>Karen Jacobsk</td>\n",
       "      <td>8698.0</td>\n",
       "      <td>833-13-6967</td>\n",
       "      <td>Entrepreneur</td>\n",
       "      <td>17423.69</td>\n",
       "      <td>1707.974167</td>\n",
       "      <td>6</td>\n",
       "      <td>...</td>\n",
       "      <td>Standard</td>\n",
       "      <td>1158.96</td>\n",
       "      <td>34.351207</td>\n",
       "      <td>31 Years and 6 Months</td>\n",
       "      <td>Yes</td>\n",
       "      <td>0.0</td>\n",
       "      <td>132.02462617693052</td>\n",
       "      <td>Low_spent_Large_value_payments</td>\n",
       "      <td>308.77279048973617</td>\n",
       "      <td>Standard</td>\n",
       "    </tr>\n",
       "  </tbody>\n",
       "</table>\n",
       "<p>1 rows × 28 columns</p>\n",
       "</div>"
      ],
      "text/plain": [
       "            ID Customer_ID Month           Name     Age          SSN  \\\n",
       "71732  0x1ba4e  CUS_0x3909   May  Karen Jacobsk  8698.0  833-13-6967   \n",
       "\n",
       "         Occupation Annual_Income  Monthly_Inhand_Salary  Num_Bank_Accounts  \\\n",
       "71732  Entrepreneur      17423.69            1707.974167                  6   \n",
       "\n",
       "       ...  Credit_Mix  Outstanding_Debt Credit_Utilization_Ratio  \\\n",
       "71732  ...    Standard           1158.96                34.351207   \n",
       "\n",
       "          Credit_History_Age  Payment_of_Min_Amount Total_EMI_per_month  \\\n",
       "71732  31 Years and 6 Months                    Yes                 0.0   \n",
       "\n",
       "      Amount_invested_monthly               Payment_Behaviour  \\\n",
       "71732      132.02462617693052  Low_spent_Large_value_payments   \n",
       "\n",
       "          Monthly_Balance Credit_Score  \n",
       "71732  308.77279048973617     Standard  \n",
       "\n",
       "[1 rows x 28 columns]"
      ]
     },
     "execution_count": 32,
     "metadata": {},
     "output_type": "execute_result"
    }
   ],
   "source": [
    "dt[dt['Age']==8698]"
   ]
  },
  {
   "cell_type": "code",
   "execution_count": 12,
   "id": "98c4cc80",
   "metadata": {},
   "outputs": [
    {
     "data": {
      "text/html": [
       "<div>\n",
       "<style scoped>\n",
       "    .dataframe tbody tr th:only-of-type {\n",
       "        vertical-align: middle;\n",
       "    }\n",
       "\n",
       "    .dataframe tbody tr th {\n",
       "        vertical-align: top;\n",
       "    }\n",
       "\n",
       "    .dataframe thead th {\n",
       "        text-align: right;\n",
       "    }\n",
       "</style>\n",
       "<table border=\"1\" class=\"dataframe\">\n",
       "  <thead>\n",
       "    <tr style=\"text-align: right;\">\n",
       "      <th></th>\n",
       "      <th>ID</th>\n",
       "      <th>Customer_ID</th>\n",
       "      <th>Month</th>\n",
       "      <th>Name</th>\n",
       "      <th>Age</th>\n",
       "      <th>SSN</th>\n",
       "      <th>Occupation</th>\n",
       "      <th>Annual_Income</th>\n",
       "      <th>Monthly_Inhand_Salary</th>\n",
       "      <th>Num_Bank_Accounts</th>\n",
       "      <th>...</th>\n",
       "      <th>Credit_Mix</th>\n",
       "      <th>Outstanding_Debt</th>\n",
       "      <th>Credit_Utilization_Ratio</th>\n",
       "      <th>Credit_History_Age</th>\n",
       "      <th>Payment_of_Min_Amount</th>\n",
       "      <th>Total_EMI_per_month</th>\n",
       "      <th>Amount_invested_monthly</th>\n",
       "      <th>Payment_Behaviour</th>\n",
       "      <th>Monthly_Balance</th>\n",
       "      <th>Credit_Score</th>\n",
       "    </tr>\n",
       "  </thead>\n",
       "  <tbody>\n",
       "    <tr>\n",
       "      <th>71729</th>\n",
       "      <td>0x1ba4b</td>\n",
       "      <td>CUS_0x3909</td>\n",
       "      <td>February</td>\n",
       "      <td>Karen Jacobsk</td>\n",
       "      <td>33</td>\n",
       "      <td>833-13-6967</td>\n",
       "      <td>Entrepreneur</td>\n",
       "      <td>17423</td>\n",
       "      <td>1707.974167</td>\n",
       "      <td>6</td>\n",
       "      <td>...</td>\n",
       "      <td>Standard</td>\n",
       "      <td>1158.96</td>\n",
       "      <td>36.911191</td>\n",
       "      <td>31 Years and 3 Months</td>\n",
       "      <td>Yes</td>\n",
       "      <td>0.0</td>\n",
       "      <td>119.340613</td>\n",
       "      <td>Low_spent_Small_value_payments</td>\n",
       "      <td>341.456804</td>\n",
       "      <td>Standard</td>\n",
       "    </tr>\n",
       "    <tr>\n",
       "      <th>71730</th>\n",
       "      <td>0x1ba4c</td>\n",
       "      <td>CUS_0x3909</td>\n",
       "      <td>March</td>\n",
       "      <td>Karen Jacobsk</td>\n",
       "      <td>33</td>\n",
       "      <td>833-13-6967</td>\n",
       "      <td>Entrepreneur</td>\n",
       "      <td>17423</td>\n",
       "      <td>1707.974167</td>\n",
       "      <td>6</td>\n",
       "      <td>...</td>\n",
       "      <td>Standard</td>\n",
       "      <td>1158.96</td>\n",
       "      <td>35.733227</td>\n",
       "      <td>31 Years and 4 Months</td>\n",
       "      <td>Yes</td>\n",
       "      <td>0.0</td>\n",
       "      <td>26.159439</td>\n",
       "      <td>High_spent_Large_value_payments</td>\n",
       "      <td>384.637977</td>\n",
       "      <td>Standard</td>\n",
       "    </tr>\n",
       "    <tr>\n",
       "      <th>71731</th>\n",
       "      <td>0x1ba4d</td>\n",
       "      <td>CUS_0x3909</td>\n",
       "      <td>April</td>\n",
       "      <td>Karen Jacobsk</td>\n",
       "      <td>33</td>\n",
       "      <td>833-13-6967</td>\n",
       "      <td>Entrepreneur</td>\n",
       "      <td>17423</td>\n",
       "      <td>0.000000</td>\n",
       "      <td>6</td>\n",
       "      <td>...</td>\n",
       "      <td>_</td>\n",
       "      <td>1158.96</td>\n",
       "      <td>27.660341</td>\n",
       "      <td>31 Years and 5 Months</td>\n",
       "      <td>NM</td>\n",
       "      <td>0.0</td>\n",
       "      <td>161.180926</td>\n",
       "      <td>Low_spent_Medium_value_payments</td>\n",
       "      <td>289.616491</td>\n",
       "      <td>Standard</td>\n",
       "    </tr>\n",
       "    <tr>\n",
       "      <th>71732</th>\n",
       "      <td>0x1ba4e</td>\n",
       "      <td>CUS_0x3909</td>\n",
       "      <td>May</td>\n",
       "      <td>Karen Jacobsk</td>\n",
       "      <td>8698</td>\n",
       "      <td>833-13-6967</td>\n",
       "      <td>Entrepreneur</td>\n",
       "      <td>17423</td>\n",
       "      <td>1707.974167</td>\n",
       "      <td>6</td>\n",
       "      <td>...</td>\n",
       "      <td>Standard</td>\n",
       "      <td>1158.96</td>\n",
       "      <td>34.351207</td>\n",
       "      <td>31 Years and 6 Months</td>\n",
       "      <td>Yes</td>\n",
       "      <td>0.0</td>\n",
       "      <td>132.024626</td>\n",
       "      <td>Low_spent_Large_value_payments</td>\n",
       "      <td>308.772790</td>\n",
       "      <td>Standard</td>\n",
       "    </tr>\n",
       "    <tr>\n",
       "      <th>71733</th>\n",
       "      <td>0x1ba4f</td>\n",
       "      <td>CUS_0x3909</td>\n",
       "      <td>June</td>\n",
       "      <td>NaN</td>\n",
       "      <td>33</td>\n",
       "      <td>833-13-6967</td>\n",
       "      <td>Entrepreneur</td>\n",
       "      <td>17423</td>\n",
       "      <td>1707.974167</td>\n",
       "      <td>6</td>\n",
       "      <td>...</td>\n",
       "      <td>Standard</td>\n",
       "      <td>1158.96</td>\n",
       "      <td>34.251338</td>\n",
       "      <td>31 Years and 7 Months</td>\n",
       "      <td>Yes</td>\n",
       "      <td>0.0</td>\n",
       "      <td>155.445817</td>\n",
       "      <td>Low_spent_Medium_value_payments</td>\n",
       "      <td>295.351600</td>\n",
       "      <td>Standard</td>\n",
       "    </tr>\n",
       "    <tr>\n",
       "      <th>71734</th>\n",
       "      <td>0x1ba50</td>\n",
       "      <td>CUS_0x3909</td>\n",
       "      <td>July</td>\n",
       "      <td>Karen Jacobsk</td>\n",
       "      <td>33</td>\n",
       "      <td>#F%$D@*&amp;8</td>\n",
       "      <td>Entrepreneur</td>\n",
       "      <td>17423</td>\n",
       "      <td>1707.974167</td>\n",
       "      <td>6</td>\n",
       "      <td>...</td>\n",
       "      <td>_</td>\n",
       "      <td>1158.96</td>\n",
       "      <td>37.656919</td>\n",
       "      <td>31 Years and 8 Months</td>\n",
       "      <td>Yes</td>\n",
       "      <td>0.0</td>\n",
       "      <td>69.285443</td>\n",
       "      <td>Low_spent_Small_value_payments</td>\n",
       "      <td>391.511973</td>\n",
       "      <td>Standard</td>\n",
       "    </tr>\n",
       "  </tbody>\n",
       "</table>\n",
       "<p>6 rows × 28 columns</p>\n",
       "</div>"
      ],
      "text/plain": [
       "            ID Customer_ID     Month           Name   Age          SSN  \\\n",
       "71729  0x1ba4b  CUS_0x3909  February  Karen Jacobsk    33  833-13-6967   \n",
       "71730  0x1ba4c  CUS_0x3909     March  Karen Jacobsk    33  833-13-6967   \n",
       "71731  0x1ba4d  CUS_0x3909     April  Karen Jacobsk    33  833-13-6967   \n",
       "71732  0x1ba4e  CUS_0x3909       May  Karen Jacobsk  8698  833-13-6967   \n",
       "71733  0x1ba4f  CUS_0x3909      June            NaN    33  833-13-6967   \n",
       "71734  0x1ba50  CUS_0x3909      July  Karen Jacobsk    33    #F%$D@*&8   \n",
       "\n",
       "         Occupation  Annual_Income  Monthly_Inhand_Salary  Num_Bank_Accounts  \\\n",
       "71729  Entrepreneur          17423            1707.974167                  6   \n",
       "71730  Entrepreneur          17423            1707.974167                  6   \n",
       "71731  Entrepreneur          17423               0.000000                  6   \n",
       "71732  Entrepreneur          17423            1707.974167                  6   \n",
       "71733  Entrepreneur          17423            1707.974167                  6   \n",
       "71734  Entrepreneur          17423            1707.974167                  6   \n",
       "\n",
       "       ...  Credit_Mix  Outstanding_Debt Credit_Utilization_Ratio  \\\n",
       "71729  ...    Standard           1158.96                36.911191   \n",
       "71730  ...    Standard           1158.96                35.733227   \n",
       "71731  ...           _           1158.96                27.660341   \n",
       "71732  ...    Standard           1158.96                34.351207   \n",
       "71733  ...    Standard           1158.96                34.251338   \n",
       "71734  ...           _           1158.96                37.656919   \n",
       "\n",
       "          Credit_History_Age  Payment_of_Min_Amount  Total_EMI_per_month  \\\n",
       "71729  31 Years and 3 Months                    Yes                  0.0   \n",
       "71730  31 Years and 4 Months                    Yes                  0.0   \n",
       "71731  31 Years and 5 Months                     NM                  0.0   \n",
       "71732  31 Years and 6 Months                    Yes                  0.0   \n",
       "71733  31 Years and 7 Months                    Yes                  0.0   \n",
       "71734  31 Years and 8 Months                    Yes                  0.0   \n",
       "\n",
       "       Amount_invested_monthly                Payment_Behaviour  \\\n",
       "71729               119.340613   Low_spent_Small_value_payments   \n",
       "71730                26.159439  High_spent_Large_value_payments   \n",
       "71731               161.180926  Low_spent_Medium_value_payments   \n",
       "71732               132.024626   Low_spent_Large_value_payments   \n",
       "71733               155.445817  Low_spent_Medium_value_payments   \n",
       "71734                69.285443   Low_spent_Small_value_payments   \n",
       "\n",
       "      Monthly_Balance  Credit_Score  \n",
       "71729      341.456804      Standard  \n",
       "71730      384.637977      Standard  \n",
       "71731      289.616491      Standard  \n",
       "71732      308.772790      Standard  \n",
       "71733      295.351600      Standard  \n",
       "71734      391.511973      Standard  \n",
       "\n",
       "[6 rows x 28 columns]"
      ]
     },
     "execution_count": 12,
     "metadata": {},
     "output_type": "execute_result"
    }
   ],
   "source": [
    "dt[71729:71735]"
   ]
  },
  {
   "cell_type": "code",
   "execution_count": 13,
   "id": "246e453d",
   "metadata": {},
   "outputs": [
    {
     "data": {
      "text/plain": [
       "Customer_ID  Age \n",
       "CUS_0x1000   17      4\n",
       "             18      3\n",
       "             0       1\n",
       "CUS_0x1009   26      6\n",
       "             25      2\n",
       "CUS_0x100b   18      4\n",
       "             19      4\n",
       "CUS_0x1011   44      6\n",
       "             0       2\n",
       "CUS_0x1013   44      5\n",
       "             43      2\n",
       "             0       1\n",
       "CUS_0x1015   27      7\n",
       "             4510    1\n",
       "CUS_0x1018   15      8\n",
       "CUS_0x1026   51      4\n",
       "             52      4\n",
       "CUS_0x102d   30      3\n",
       "             31      3\n",
       "             0       2\n",
       "Name: Age, dtype: int64"
      ]
     },
     "execution_count": 13,
     "metadata": {},
     "output_type": "execute_result"
    }
   ],
   "source": [
    "dt.groupby([\"Customer_ID\"])['Age'].value_counts().head(20)"
   ]
  },
  {
   "cell_type": "markdown",
   "id": "53581a6f",
   "metadata": {},
   "source": [
    "We demand for each 8 rows to keep the age number that appears the most. Of course, some people may have birthday during the 8-month period and their age may change, but it is not important for our task. "
   ]
  },
  {
   "cell_type": "code",
   "execution_count": 4,
   "id": "60bf21d8",
   "metadata": {},
   "outputs": [],
   "source": [
    "dt['Age'] = dt.groupby(dt.index // 8)['Age'].transform(lambda x: x.value_counts().idxmax())"
   ]
  },
  {
   "cell_type": "code",
   "execution_count": 190,
   "id": "9da56de5",
   "metadata": {},
   "outputs": [
    {
     "data": {
      "text/plain": [
       "Customer_ID  Age \n",
       "CUS_0x1000   17.0    8\n",
       "CUS_0x1009   26.0    8\n",
       "CUS_0x100b   18.0    8\n",
       "CUS_0x1011   44.0    8\n",
       "CUS_0x1013   44.0    8\n",
       "Name: Age, dtype: int64"
      ]
     },
     "execution_count": 190,
     "metadata": {},
     "output_type": "execute_result"
    }
   ],
   "source": [
    "dt.groupby([\"Customer_ID\"])['Age'].value_counts().head(5)"
   ]
  },
  {
   "cell_type": "code",
   "execution_count": 217,
   "id": "ea9c2dad",
   "metadata": {},
   "outputs": [
    {
     "data": {
      "text/html": [
       "<div>\n",
       "<style scoped>\n",
       "    .dataframe tbody tr th:only-of-type {\n",
       "        vertical-align: middle;\n",
       "    }\n",
       "\n",
       "    .dataframe tbody tr th {\n",
       "        vertical-align: top;\n",
       "    }\n",
       "\n",
       "    .dataframe thead th {\n",
       "        text-align: right;\n",
       "    }\n",
       "</style>\n",
       "<table border=\"1\" class=\"dataframe\">\n",
       "  <thead>\n",
       "    <tr style=\"text-align: right;\">\n",
       "      <th></th>\n",
       "      <th>ID</th>\n",
       "      <th>Customer_ID</th>\n",
       "      <th>Month</th>\n",
       "      <th>Name</th>\n",
       "      <th>Age</th>\n",
       "      <th>SSN</th>\n",
       "      <th>Occupation</th>\n",
       "      <th>Annual_Income</th>\n",
       "      <th>Monthly_Inhand_Salary</th>\n",
       "      <th>Num_Bank_Accounts</th>\n",
       "      <th>...</th>\n",
       "      <th>Credit_Mix</th>\n",
       "      <th>Outstanding_Debt</th>\n",
       "      <th>Credit_Utilization_Ratio</th>\n",
       "      <th>Credit_History_Age</th>\n",
       "      <th>Payment_of_Min_Amount</th>\n",
       "      <th>Total_EMI_per_month</th>\n",
       "      <th>Amount_invested_monthly</th>\n",
       "      <th>Payment_Behaviour</th>\n",
       "      <th>Monthly_Balance</th>\n",
       "      <th>Credit_Score</th>\n",
       "    </tr>\n",
       "  </thead>\n",
       "  <tbody>\n",
       "    <tr>\n",
       "      <th>32064</th>\n",
       "      <td>0xd1e2</td>\n",
       "      <td>CUS_0x1c5d</td>\n",
       "      <td>January</td>\n",
       "      <td>Christiaan Hetznerb</td>\n",
       "      <td>-500.0</td>\n",
       "      <td>084-74-2355</td>\n",
       "      <td>Musician</td>\n",
       "      <td>19121.21</td>\n",
       "      <td>1501.434167</td>\n",
       "      <td>8</td>\n",
       "      <td>...</td>\n",
       "      <td>Standard</td>\n",
       "      <td>448.39</td>\n",
       "      <td>35.789130</td>\n",
       "      <td>177.0</td>\n",
       "      <td>Yes</td>\n",
       "      <td>79.711652</td>\n",
       "      <td>156.395996</td>\n",
       "      <td>Low_spent_Small_value_payments</td>\n",
       "      <td>204.035538</td>\n",
       "      <td>Standard</td>\n",
       "    </tr>\n",
       "    <tr>\n",
       "      <th>32065</th>\n",
       "      <td>0xd1e3</td>\n",
       "      <td>CUS_0x1c5d</td>\n",
       "      <td>February</td>\n",
       "      <td>Christiaan Hetznerb</td>\n",
       "      <td>-500.0</td>\n",
       "      <td>#F%$D@*&amp;8</td>\n",
       "      <td>Musician</td>\n",
       "      <td>19121.21</td>\n",
       "      <td>1501.434167</td>\n",
       "      <td>8</td>\n",
       "      <td>...</td>\n",
       "      <td>Standard</td>\n",
       "      <td>448.39</td>\n",
       "      <td>27.210284</td>\n",
       "      <td>178.0</td>\n",
       "      <td>Yes</td>\n",
       "      <td>79.711652</td>\n",
       "      <td>68.287003</td>\n",
       "      <td>Low_spent_Large_value_payments</td>\n",
       "      <td>272.144348</td>\n",
       "      <td>Standard</td>\n",
       "    </tr>\n",
       "    <tr>\n",
       "      <th>32066</th>\n",
       "      <td>0xd1e4</td>\n",
       "      <td>CUS_0x1c5d</td>\n",
       "      <td>March</td>\n",
       "      <td>Christiaan Hetznerb</td>\n",
       "      <td>-500.0</td>\n",
       "      <td>084-74-2355</td>\n",
       "      <td>Musician</td>\n",
       "      <td>19121.21</td>\n",
       "      <td>1501.434167</td>\n",
       "      <td>8</td>\n",
       "      <td>...</td>\n",
       "      <td>Standard</td>\n",
       "      <td>448.39</td>\n",
       "      <td>37.785015</td>\n",
       "      <td>179.0</td>\n",
       "      <td>Yes</td>\n",
       "      <td>79.711652</td>\n",
       "      <td>173.093994</td>\n",
       "      <td>Low_spent_Small_value_payments</td>\n",
       "      <td>187.337967</td>\n",
       "      <td>Standard</td>\n",
       "    </tr>\n",
       "    <tr>\n",
       "      <th>32067</th>\n",
       "      <td>0xd1e5</td>\n",
       "      <td>CUS_0x1c5d</td>\n",
       "      <td>April</td>\n",
       "      <td>Christiaan Hetznerb</td>\n",
       "      <td>-500.0</td>\n",
       "      <td>084-74-2355</td>\n",
       "      <td>Musician</td>\n",
       "      <td>19121.21</td>\n",
       "      <td>1501.434167</td>\n",
       "      <td>8</td>\n",
       "      <td>...</td>\n",
       "      <td>Standard</td>\n",
       "      <td>448.39</td>\n",
       "      <td>26.175230</td>\n",
       "      <td>180.0</td>\n",
       "      <td>Yes</td>\n",
       "      <td>79.711652</td>\n",
       "      <td>66.539001</td>\n",
       "      <td>Low_spent_Small_value_payments</td>\n",
       "      <td>293.892883</td>\n",
       "      <td>Standard</td>\n",
       "    </tr>\n",
       "    <tr>\n",
       "      <th>32068</th>\n",
       "      <td>0xd1e6</td>\n",
       "      <td>CUS_0x1c5d</td>\n",
       "      <td>May</td>\n",
       "      <td>Christiaan Hetznerb</td>\n",
       "      <td>-500.0</td>\n",
       "      <td>084-74-2355</td>\n",
       "      <td>Musician</td>\n",
       "      <td>19121.21</td>\n",
       "      <td>1501.434167</td>\n",
       "      <td>8</td>\n",
       "      <td>...</td>\n",
       "      <td>Standard</td>\n",
       "      <td>448.39</td>\n",
       "      <td>38.217493</td>\n",
       "      <td>181.0</td>\n",
       "      <td>Yes</td>\n",
       "      <td>79.711652</td>\n",
       "      <td>90.436996</td>\n",
       "      <td>Low_spent_Small_value_payments</td>\n",
       "      <td>269.994415</td>\n",
       "      <td>Standard</td>\n",
       "    </tr>\n",
       "    <tr>\n",
       "      <th>32069</th>\n",
       "      <td>0xd1e7</td>\n",
       "      <td>CUS_0x1c5d</td>\n",
       "      <td>June</td>\n",
       "      <td>Christiaan Hetznerb</td>\n",
       "      <td>-500.0</td>\n",
       "      <td>084-74-2355</td>\n",
       "      <td>Musician</td>\n",
       "      <td>19121.21</td>\n",
       "      <td>1501.434167</td>\n",
       "      <td>8</td>\n",
       "      <td>...</td>\n",
       "      <td>Standard</td>\n",
       "      <td>448.39</td>\n",
       "      <td>30.949719</td>\n",
       "      <td>182.0</td>\n",
       "      <td>Yes</td>\n",
       "      <td>79.711652</td>\n",
       "      <td>76.162003</td>\n",
       "      <td>Low_spent_Small_value_payments</td>\n",
       "      <td>284.269836</td>\n",
       "      <td>Standard</td>\n",
       "    </tr>\n",
       "    <tr>\n",
       "      <th>32070</th>\n",
       "      <td>0xd1e8</td>\n",
       "      <td>CUS_0x1c5d</td>\n",
       "      <td>July</td>\n",
       "      <td>Christiaan Hetznerb</td>\n",
       "      <td>-500.0</td>\n",
       "      <td>#F%$D@*&amp;8</td>\n",
       "      <td>Musician</td>\n",
       "      <td>19121.21</td>\n",
       "      <td>1501.434167</td>\n",
       "      <td>8</td>\n",
       "      <td>...</td>\n",
       "      <td>Standard</td>\n",
       "      <td>448.39</td>\n",
       "      <td>24.753461</td>\n",
       "      <td>183.0</td>\n",
       "      <td>Yes</td>\n",
       "      <td>79.711652</td>\n",
       "      <td>134.143005</td>\n",
       "      <td>Low_spent_Small_value_payments</td>\n",
       "      <td>226.288559</td>\n",
       "      <td>Standard</td>\n",
       "    </tr>\n",
       "    <tr>\n",
       "      <th>32071</th>\n",
       "      <td>0xd1e9</td>\n",
       "      <td>CUS_0x1c5d</td>\n",
       "      <td>August</td>\n",
       "      <td>Christiaan Hetznerb</td>\n",
       "      <td>-500.0</td>\n",
       "      <td>084-74-2355</td>\n",
       "      <td>Musician</td>\n",
       "      <td>19121.21</td>\n",
       "      <td>1501.434167</td>\n",
       "      <td>8</td>\n",
       "      <td>...</td>\n",
       "      <td>Standard</td>\n",
       "      <td>448.39</td>\n",
       "      <td>39.248660</td>\n",
       "      <td>184.0</td>\n",
       "      <td>Yes</td>\n",
       "      <td>79.711652</td>\n",
       "      <td>56.523998</td>\n",
       "      <td>Low_spent_Small_value_payments</td>\n",
       "      <td>293.908203</td>\n",
       "      <td>Standard</td>\n",
       "    </tr>\n",
       "  </tbody>\n",
       "</table>\n",
       "<p>8 rows × 28 columns</p>\n",
       "</div>"
      ],
      "text/plain": [
       "           ID Customer_ID     Month                 Name    Age          SSN  \\\n",
       "32064  0xd1e2  CUS_0x1c5d   January  Christiaan Hetznerb -500.0  084-74-2355   \n",
       "32065  0xd1e3  CUS_0x1c5d  February  Christiaan Hetznerb -500.0    #F%$D@*&8   \n",
       "32066  0xd1e4  CUS_0x1c5d     March  Christiaan Hetznerb -500.0  084-74-2355   \n",
       "32067  0xd1e5  CUS_0x1c5d     April  Christiaan Hetznerb -500.0  084-74-2355   \n",
       "32068  0xd1e6  CUS_0x1c5d       May  Christiaan Hetznerb -500.0  084-74-2355   \n",
       "32069  0xd1e7  CUS_0x1c5d      June  Christiaan Hetznerb -500.0  084-74-2355   \n",
       "32070  0xd1e8  CUS_0x1c5d      July  Christiaan Hetznerb -500.0    #F%$D@*&8   \n",
       "32071  0xd1e9  CUS_0x1c5d    August  Christiaan Hetznerb -500.0  084-74-2355   \n",
       "\n",
       "      Occupation Annual_Income  Monthly_Inhand_Salary  Num_Bank_Accounts  ...  \\\n",
       "32064   Musician      19121.21            1501.434167                  8  ...   \n",
       "32065   Musician      19121.21            1501.434167                  8  ...   \n",
       "32066   Musician      19121.21            1501.434167                  8  ...   \n",
       "32067   Musician      19121.21            1501.434167                  8  ...   \n",
       "32068   Musician      19121.21            1501.434167                  8  ...   \n",
       "32069   Musician      19121.21            1501.434167                  8  ...   \n",
       "32070   Musician      19121.21            1501.434167                  8  ...   \n",
       "32071   Musician      19121.21            1501.434167                  8  ...   \n",
       "\n",
       "       Credit_Mix  Outstanding_Debt  Credit_Utilization_Ratio  \\\n",
       "32064    Standard            448.39                 35.789130   \n",
       "32065    Standard            448.39                 27.210284   \n",
       "32066    Standard            448.39                 37.785015   \n",
       "32067    Standard            448.39                 26.175230   \n",
       "32068    Standard            448.39                 38.217493   \n",
       "32069    Standard            448.39                 30.949719   \n",
       "32070    Standard            448.39                 24.753461   \n",
       "32071    Standard            448.39                 39.248660   \n",
       "\n",
       "      Credit_History_Age  Payment_of_Min_Amount  Total_EMI_per_month  \\\n",
       "32064              177.0                    Yes            79.711652   \n",
       "32065              178.0                    Yes            79.711652   \n",
       "32066              179.0                    Yes            79.711652   \n",
       "32067              180.0                    Yes            79.711652   \n",
       "32068              181.0                    Yes            79.711652   \n",
       "32069              182.0                    Yes            79.711652   \n",
       "32070              183.0                    Yes            79.711652   \n",
       "32071              184.0                    Yes            79.711652   \n",
       "\n",
       "       Amount_invested_monthly               Payment_Behaviour  \\\n",
       "32064               156.395996  Low_spent_Small_value_payments   \n",
       "32065                68.287003  Low_spent_Large_value_payments   \n",
       "32066               173.093994  Low_spent_Small_value_payments   \n",
       "32067                66.539001  Low_spent_Small_value_payments   \n",
       "32068                90.436996  Low_spent_Small_value_payments   \n",
       "32069                76.162003  Low_spent_Small_value_payments   \n",
       "32070               134.143005  Low_spent_Small_value_payments   \n",
       "32071                56.523998  Low_spent_Small_value_payments   \n",
       "\n",
       "      Monthly_Balance  Credit_Score  \n",
       "32064      204.035538      Standard  \n",
       "32065      272.144348      Standard  \n",
       "32066      187.337967      Standard  \n",
       "32067      293.892883      Standard  \n",
       "32068      269.994415      Standard  \n",
       "32069      284.269836      Standard  \n",
       "32070      226.288559      Standard  \n",
       "32071      293.908203      Standard  \n",
       "\n",
       "[8 rows x 28 columns]"
      ]
     },
     "execution_count": 217,
     "metadata": {},
     "output_type": "execute_result"
    }
   ],
   "source": [
    "dt[dt['Age']==-500]"
   ]
  },
  {
   "cell_type": "markdown",
   "id": "5abc4ec3",
   "metadata": {},
   "source": [
    "still there is a customer with age = -500 after the process. we set these values to 19, that is the majurity age after -500 for this person as it was found from the original data."
   ]
  },
  {
   "cell_type": "code",
   "execution_count": 5,
   "id": "fc97c69e",
   "metadata": {},
   "outputs": [],
   "source": [
    "dt.loc[dt['Age'] == -500, 'Age'] = 19"
   ]
  },
  {
   "cell_type": "markdown",
   "id": "87d5ad0a",
   "metadata": {},
   "source": [
    "2. \"Monthly_Inhand_Salary\" PREPROCESSING"
   ]
  },
  {
   "cell_type": "code",
   "execution_count": 35,
   "id": "d0b5e2e6",
   "metadata": {},
   "outputs": [
    {
     "data": {
      "text/plain": [
       "Customer_ID\n",
       "CUS_0x1000    [2706.1616666666664, nan]\n",
       "CUS_0x1009                    [4250.39]\n",
       "CUS_0x100b             [9549.7825, nan]\n",
       "CUS_0x1011             [5208.8725, nan]\n",
       "CUS_0x1013     [nan, 7962.415000000001]\n",
       "                        ...            \n",
       "CUS_0xff3             [1176.39875, nan]\n",
       "CUS_0xff4               [2415.855, nan]\n",
       "CUS_0xff6           [9727.326666666666]\n",
       "CUS_0xffc                   [5218.0975]\n",
       "CUS_0xffd                [3749.87, nan]\n",
       "Name: Monthly_Inhand_Salary, Length: 12500, dtype: object"
      ]
     },
     "execution_count": 35,
     "metadata": {},
     "output_type": "execute_result"
    }
   ],
   "source": [
    "dt.groupby(\"Customer_ID\")[\"Monthly_Inhand_Salary\"].unique() # we need to group by ID to fill in the missing values."
   ]
  },
  {
   "cell_type": "code",
   "execution_count": 6,
   "id": "0009c09e",
   "metadata": {},
   "outputs": [
    {
     "name": "stderr",
     "output_type": "stream",
     "text": [
      "C:\\Users\\B590\\AppData\\Local\\Temp\\ipykernel_4932\\174680211.py:3: FutureWarning: Series.fillna with 'method' is deprecated and will raise in a future version. Use obj.ffill() or obj.bfill() instead.\n",
      "  lambda x: x.fillna(method=\"ffill\").fillna(method=\"bfill\"))\n"
     ]
    }
   ],
   "source": [
    "dt[\"Monthly_Inhand_Salary\"] = dt.groupby(\n",
    "    \"Customer_ID\")[\"Monthly_Inhand_Salary\"].transform(\n",
    "        lambda x: x.fillna(method=\"ffill\").fillna(method=\"bfill\"))\n"
   ]
  },
  {
   "cell_type": "code",
   "execution_count": 7,
   "id": "233a55dd",
   "metadata": {},
   "outputs": [
    {
     "data": {
      "text/plain": [
       "Customer_ID\n",
       "CUS_0x1000    [2706.1616666666664]\n",
       "CUS_0x1009               [4250.39]\n",
       "CUS_0x100b             [9549.7825]\n",
       "CUS_0x1011             [5208.8725]\n",
       "CUS_0x1013     [7962.415000000001]\n",
       "                      ...         \n",
       "CUS_0xff3             [1176.39875]\n",
       "CUS_0xff4               [2415.855]\n",
       "CUS_0xff6      [9727.326666666666]\n",
       "CUS_0xffc              [5218.0975]\n",
       "CUS_0xffd                [3749.87]\n",
       "Name: Monthly_Inhand_Salary, Length: 12500, dtype: object"
      ]
     },
     "execution_count": 7,
     "metadata": {},
     "output_type": "execute_result"
    }
   ],
   "source": [
    "dt.groupby(\"Customer_ID\")[\"Monthly_Inhand_Salary\"].unique()"
   ]
  },
  {
   "cell_type": "markdown",
   "id": "1a60c30e",
   "metadata": {},
   "source": [
    "3. \"Annual_Income\" PREPROCESSING "
   ]
  },
  {
   "cell_type": "code",
   "execution_count": 38,
   "id": "9f2d8627",
   "metadata": {},
   "outputs": [
    {
     "data": {
      "text/plain": [
       "Customer_ID\n",
       "CUS_0x1000    [30625.94, 30625.94_]\n",
       "CUS_0x1009    [52312.68, 52312.68_]\n",
       "CUS_0x100b     [113781.38999999998]\n",
       "CUS_0x1011               [58918.47]\n",
       "CUS_0x1013               [98620.98]\n",
       "                      ...          \n",
       "CUS_0xff3               [17032.785]\n",
       "CUS_0xff4     [25546.26, 25546.26_]\n",
       "CUS_0xff6               [117639.92]\n",
       "CUS_0xffc                [60877.17]\n",
       "CUS_0xffd     [41398.44, 41398.44_]\n",
       "Name: Annual_Income, Length: 12500, dtype: object"
      ]
     },
     "execution_count": 38,
     "metadata": {},
     "output_type": "execute_result"
    }
   ],
   "source": [
    "dt.groupby(\"Customer_ID\")[\"Annual_Income\"].unique()\n",
    "\n",
    "# we observe that there exist an extra _ on the values, not a different value"
   ]
  },
  {
   "cell_type": "code",
   "execution_count": 8,
   "id": "59be99da",
   "metadata": {},
   "outputs": [],
   "source": [
    "dt['Annual_Income'] = dt['Annual_Income'].str.rstrip(\"_\") # remove _ "
   ]
  },
  {
   "cell_type": "code",
   "execution_count": 3,
   "id": "d527c8a8",
   "metadata": {},
   "outputs": [
    {
     "data": {
      "text/plain": [
       "Customer_ID\n",
       "CUS_0x1018    True\n",
       "CUS_0x1057    True\n",
       "CUS_0x107e    True\n",
       "CUS_0x108a    True\n",
       "CUS_0x10a9    True\n",
       "              ... \n",
       "CUS_0xe5b     True\n",
       "CUS_0xee1     True\n",
       "CUS_0xf20     True\n",
       "CUS_0xf55     True\n",
       "CUS_0xfa4     True\n",
       "Name: Annual_Income, Length: 965, dtype: bool"
      ]
     },
     "execution_count": 3,
     "metadata": {},
     "output_type": "execute_result"
    }
   ],
   "source": [
    "# Are there customers with more than one unique value as Annual Income?\n",
    "\n",
    "a=dt.groupby(\"Customer_ID\")[\"Annual_Income\"].unique().apply(lambda x: len(set(x)))>1\n",
    "\n",
    "a[a] "
   ]
  },
  {
   "cell_type": "code",
   "execution_count": 4,
   "id": "c7945dca",
   "metadata": {},
   "outputs": [
    {
     "data": {
      "text/html": [
       "<div>\n",
       "<style scoped>\n",
       "    .dataframe tbody tr th:only-of-type {\n",
       "        vertical-align: middle;\n",
       "    }\n",
       "\n",
       "    .dataframe tbody tr th {\n",
       "        vertical-align: top;\n",
       "    }\n",
       "\n",
       "    .dataframe thead th {\n",
       "        text-align: right;\n",
       "    }\n",
       "</style>\n",
       "<table border=\"1\" class=\"dataframe\">\n",
       "  <thead>\n",
       "    <tr style=\"text-align: right;\">\n",
       "      <th></th>\n",
       "      <th>ID</th>\n",
       "      <th>Customer_ID</th>\n",
       "      <th>Month</th>\n",
       "      <th>Name</th>\n",
       "      <th>Age</th>\n",
       "      <th>SSN</th>\n",
       "      <th>Occupation</th>\n",
       "      <th>Annual_Income</th>\n",
       "      <th>Monthly_Inhand_Salary</th>\n",
       "      <th>Num_Bank_Accounts</th>\n",
       "      <th>...</th>\n",
       "      <th>Credit_Mix</th>\n",
       "      <th>Outstanding_Debt</th>\n",
       "      <th>Credit_Utilization_Ratio</th>\n",
       "      <th>Credit_History_Age</th>\n",
       "      <th>Payment_of_Min_Amount</th>\n",
       "      <th>Total_EMI_per_month</th>\n",
       "      <th>Amount_invested_monthly</th>\n",
       "      <th>Payment_Behaviour</th>\n",
       "      <th>Monthly_Balance</th>\n",
       "      <th>Credit_Score</th>\n",
       "    </tr>\n",
       "  </thead>\n",
       "  <tbody>\n",
       "    <tr>\n",
       "      <th>75816</th>\n",
       "      <td>0x1d23e</td>\n",
       "      <td>CUS_0xf20</td>\n",
       "      <td>January</td>\n",
       "      <td>NaN</td>\n",
       "      <td>40</td>\n",
       "      <td>918-15-9352</td>\n",
       "      <td>Musician</td>\n",
       "      <td>58063.48</td>\n",
       "      <td>4759.623333</td>\n",
       "      <td>8</td>\n",
       "      <td>...</td>\n",
       "      <td>Bad</td>\n",
       "      <td>4265.3</td>\n",
       "      <td>25.027666</td>\n",
       "      <td>1 Years and 7 Months</td>\n",
       "      <td>Yes</td>\n",
       "      <td>136.158434</td>\n",
       "      <td>146.29961507979186</td>\n",
       "      <td>High_spent_Medium_value_payments</td>\n",
       "      <td>443.50428435787217</td>\n",
       "      <td>Poor</td>\n",
       "    </tr>\n",
       "    <tr>\n",
       "      <th>75817</th>\n",
       "      <td>0x1d23f</td>\n",
       "      <td>CUS_0xf20</td>\n",
       "      <td>February</td>\n",
       "      <td>Anurag Kotokyf</td>\n",
       "      <td>40</td>\n",
       "      <td>918-15-9352</td>\n",
       "      <td>Musician</td>\n",
       "      <td>58063.48</td>\n",
       "      <td>4759.623333</td>\n",
       "      <td>8</td>\n",
       "      <td>...</td>\n",
       "      <td>Bad</td>\n",
       "      <td>4265.3</td>\n",
       "      <td>24.752835</td>\n",
       "      <td>1 Years and 8 Months</td>\n",
       "      <td>Yes</td>\n",
       "      <td>136.158434</td>\n",
       "      <td>NaN</td>\n",
       "      <td>Low_spent_Small_value_payments</td>\n",
       "      <td>163.57006720887597</td>\n",
       "      <td>Poor</td>\n",
       "    </tr>\n",
       "    <tr>\n",
       "      <th>75818</th>\n",
       "      <td>0x1d240</td>\n",
       "      <td>CUS_0xf20</td>\n",
       "      <td>March</td>\n",
       "      <td>Anurag Kotokyf</td>\n",
       "      <td>40</td>\n",
       "      <td>918-15-9352</td>\n",
       "      <td>Musician</td>\n",
       "      <td>58063.48</td>\n",
       "      <td>NaN</td>\n",
       "      <td>8</td>\n",
       "      <td>...</td>\n",
       "      <td>Bad</td>\n",
       "      <td>4265.3</td>\n",
       "      <td>35.151032</td>\n",
       "      <td>1 Years and 9 Months</td>\n",
       "      <td>Yes</td>\n",
       "      <td>136.158434</td>\n",
       "      <td>52.01831752349963</td>\n",
       "      <td>High_spent_Large_value_payments</td>\n",
       "      <td>527.7855819141645</td>\n",
       "      <td>Poor</td>\n",
       "    </tr>\n",
       "    <tr>\n",
       "      <th>75819</th>\n",
       "      <td>0x1d241</td>\n",
       "      <td>CUS_0xf20</td>\n",
       "      <td>April</td>\n",
       "      <td>Anurag Kotokyf</td>\n",
       "      <td>40</td>\n",
       "      <td>#F%$D@*&amp;8</td>\n",
       "      <td>_______</td>\n",
       "      <td>58063.48</td>\n",
       "      <td>4759.623333</td>\n",
       "      <td>8</td>\n",
       "      <td>...</td>\n",
       "      <td>Bad</td>\n",
       "      <td>4265.3</td>\n",
       "      <td>36.380224</td>\n",
       "      <td>1 Years and 10 Months</td>\n",
       "      <td>Yes</td>\n",
       "      <td>136.158434</td>\n",
       "      <td>145.44707445372646</td>\n",
       "      <td>High_spent_Medium_value_payments</td>\n",
       "      <td>444.35682498393766</td>\n",
       "      <td>Standard</td>\n",
       "    </tr>\n",
       "    <tr>\n",
       "      <th>75820</th>\n",
       "      <td>0x1d242</td>\n",
       "      <td>CUS_0xf20</td>\n",
       "      <td>May</td>\n",
       "      <td>Anurag Kotokyf</td>\n",
       "      <td>41</td>\n",
       "      <td>918-15-9352</td>\n",
       "      <td>Musician</td>\n",
       "      <td>58063.48</td>\n",
       "      <td>NaN</td>\n",
       "      <td>8</td>\n",
       "      <td>...</td>\n",
       "      <td>Bad</td>\n",
       "      <td>4265.3</td>\n",
       "      <td>35.255545</td>\n",
       "      <td>1 Years and 11 Months</td>\n",
       "      <td>Yes</td>\n",
       "      <td>136.158434</td>\n",
       "      <td>84.44178443300345</td>\n",
       "      <td>High_spent_Medium_value_payments</td>\n",
       "      <td>505.36211500466067</td>\n",
       "      <td>Standard</td>\n",
       "    </tr>\n",
       "    <tr>\n",
       "      <th>75821</th>\n",
       "      <td>0x1d243</td>\n",
       "      <td>CUS_0xf20</td>\n",
       "      <td>June</td>\n",
       "      <td>Anurag Kotokyf</td>\n",
       "      <td>41</td>\n",
       "      <td>918-15-9352</td>\n",
       "      <td>Musician</td>\n",
       "      <td>58063.48</td>\n",
       "      <td>4759.623333</td>\n",
       "      <td>8</td>\n",
       "      <td>...</td>\n",
       "      <td>Bad</td>\n",
       "      <td>4265.3</td>\n",
       "      <td>38.430329</td>\n",
       "      <td>2 Years and 0 Months</td>\n",
       "      <td>Yes</td>\n",
       "      <td>136.158434</td>\n",
       "      <td>335.9833931499657</td>\n",
       "      <td>Low_spent_Large_value_payments</td>\n",
       "      <td>273.8205062876984</td>\n",
       "      <td>Poor</td>\n",
       "    </tr>\n",
       "    <tr>\n",
       "      <th>75822</th>\n",
       "      <td>0x1d244</td>\n",
       "      <td>CUS_0xf20</td>\n",
       "      <td>July</td>\n",
       "      <td>NaN</td>\n",
       "      <td>41</td>\n",
       "      <td>918-15-9352</td>\n",
       "      <td>Musician</td>\n",
       "      <td>20189519.0</td>\n",
       "      <td>4759.623333</td>\n",
       "      <td>8</td>\n",
       "      <td>...</td>\n",
       "      <td>Bad</td>\n",
       "      <td>4265.3</td>\n",
       "      <td>37.380902</td>\n",
       "      <td>2 Years and 1 Months</td>\n",
       "      <td>Yes</td>\n",
       "      <td>136.158434</td>\n",
       "      <td>167.45020822888662</td>\n",
       "      <td>Low_spent_Small_value_payments</td>\n",
       "      <td>462.3536912087775</td>\n",
       "      <td>Poor</td>\n",
       "    </tr>\n",
       "    <tr>\n",
       "      <th>75823</th>\n",
       "      <td>0x1d245</td>\n",
       "      <td>CUS_0xf20</td>\n",
       "      <td>August</td>\n",
       "      <td>Anurag Kotokyf</td>\n",
       "      <td>41</td>\n",
       "      <td>#F%$D@*&amp;8</td>\n",
       "      <td>Musician</td>\n",
       "      <td>58063.48</td>\n",
       "      <td>NaN</td>\n",
       "      <td>8</td>\n",
       "      <td>...</td>\n",
       "      <td>Bad</td>\n",
       "      <td>4265.3</td>\n",
       "      <td>31.941382</td>\n",
       "      <td>2 Years and 2 Months</td>\n",
       "      <td>Yes</td>\n",
       "      <td>136.158434</td>\n",
       "      <td>256.3118875500337</td>\n",
       "      <td>High_spent_Small_value_payments</td>\n",
       "      <td>343.4920118876304</td>\n",
       "      <td>Poor</td>\n",
       "    </tr>\n",
       "  </tbody>\n",
       "</table>\n",
       "<p>8 rows × 28 columns</p>\n",
       "</div>"
      ],
      "text/plain": [
       "            ID Customer_ID     Month            Name Age          SSN  \\\n",
       "75816  0x1d23e   CUS_0xf20   January             NaN  40  918-15-9352   \n",
       "75817  0x1d23f   CUS_0xf20  February  Anurag Kotokyf  40  918-15-9352   \n",
       "75818  0x1d240   CUS_0xf20     March  Anurag Kotokyf  40  918-15-9352   \n",
       "75819  0x1d241   CUS_0xf20     April  Anurag Kotokyf  40    #F%$D@*&8   \n",
       "75820  0x1d242   CUS_0xf20       May  Anurag Kotokyf  41  918-15-9352   \n",
       "75821  0x1d243   CUS_0xf20      June  Anurag Kotokyf  41  918-15-9352   \n",
       "75822  0x1d244   CUS_0xf20      July             NaN  41  918-15-9352   \n",
       "75823  0x1d245   CUS_0xf20    August  Anurag Kotokyf  41    #F%$D@*&8   \n",
       "\n",
       "      Occupation Annual_Income  Monthly_Inhand_Salary  Num_Bank_Accounts  ...  \\\n",
       "75816   Musician      58063.48            4759.623333                  8  ...   \n",
       "75817   Musician      58063.48            4759.623333                  8  ...   \n",
       "75818   Musician      58063.48                    NaN                  8  ...   \n",
       "75819    _______      58063.48            4759.623333                  8  ...   \n",
       "75820   Musician      58063.48                    NaN                  8  ...   \n",
       "75821   Musician      58063.48            4759.623333                  8  ...   \n",
       "75822   Musician    20189519.0            4759.623333                  8  ...   \n",
       "75823   Musician      58063.48                    NaN                  8  ...   \n",
       "\n",
       "       Credit_Mix  Outstanding_Debt Credit_Utilization_Ratio  \\\n",
       "75816         Bad            4265.3                25.027666   \n",
       "75817         Bad            4265.3                24.752835   \n",
       "75818         Bad            4265.3                35.151032   \n",
       "75819         Bad            4265.3                36.380224   \n",
       "75820         Bad            4265.3                35.255545   \n",
       "75821         Bad            4265.3                38.430329   \n",
       "75822         Bad            4265.3                37.380902   \n",
       "75823         Bad            4265.3                31.941382   \n",
       "\n",
       "          Credit_History_Age  Payment_of_Min_Amount Total_EMI_per_month  \\\n",
       "75816   1 Years and 7 Months                    Yes          136.158434   \n",
       "75817   1 Years and 8 Months                    Yes          136.158434   \n",
       "75818   1 Years and 9 Months                    Yes          136.158434   \n",
       "75819  1 Years and 10 Months                    Yes          136.158434   \n",
       "75820  1 Years and 11 Months                    Yes          136.158434   \n",
       "75821   2 Years and 0 Months                    Yes          136.158434   \n",
       "75822   2 Years and 1 Months                    Yes          136.158434   \n",
       "75823   2 Years and 2 Months                    Yes          136.158434   \n",
       "\n",
       "      Amount_invested_monthly                 Payment_Behaviour  \\\n",
       "75816      146.29961507979186  High_spent_Medium_value_payments   \n",
       "75817                     NaN    Low_spent_Small_value_payments   \n",
       "75818       52.01831752349963   High_spent_Large_value_payments   \n",
       "75819      145.44707445372646  High_spent_Medium_value_payments   \n",
       "75820       84.44178443300345  High_spent_Medium_value_payments   \n",
       "75821       335.9833931499657    Low_spent_Large_value_payments   \n",
       "75822      167.45020822888662    Low_spent_Small_value_payments   \n",
       "75823       256.3118875500337   High_spent_Small_value_payments   \n",
       "\n",
       "          Monthly_Balance Credit_Score  \n",
       "75816  443.50428435787217         Poor  \n",
       "75817  163.57006720887597         Poor  \n",
       "75818   527.7855819141645         Poor  \n",
       "75819  444.35682498393766     Standard  \n",
       "75820  505.36211500466067     Standard  \n",
       "75821   273.8205062876984         Poor  \n",
       "75822   462.3536912087775         Poor  \n",
       "75823   343.4920118876304         Poor  \n",
       "\n",
       "[8 rows x 28 columns]"
      ]
     },
     "execution_count": 4,
     "metadata": {},
     "output_type": "execute_result"
    }
   ],
   "source": [
    "# So, there are 965 customers with many Annual Incomes. \n",
    "# Check the quality of this entities.\n",
    "\n",
    "dt[dt['Customer_ID'] == 'CUS_0xf20' ]"
   ]
  },
  {
   "cell_type": "markdown",
   "id": "1b6d8c74",
   "metadata": {},
   "source": [
    "!!! Outliers"
   ]
  },
  {
   "cell_type": "code",
   "execution_count": 1,
   "id": "7f91ab26",
   "metadata": {},
   "outputs": [
    {
     "name": "stdout",
     "output_type": "stream",
     "text": [
      "['16279.715' '14068988.0']\n",
      "['14962.35' '1354835.0']\n",
      "['19870800.0' '11646.19']\n",
      "['8816.71' '15655612.0']\n",
      "['7315.235' '6791745.0' '8006694.0']\n",
      "['23027396.0' '25628.96']\n",
      "['72618.32' '3239710.0']\n",
      "['45827.74' '20161625.0']\n",
      "['21336803.0' '7299.77']\n",
      "['142743.4' '18002357.0']\n",
      "['29101.2' '812932.0']\n",
      "['34188.05' '1234414.0']\n",
      "['37840.48' '3450079.0']\n",
      "['66289.36' '22477833.0']\n",
      "['59986.0' '2226279.0']\n",
      "['34153.67' '23775314.0']\n",
      "['106251.21' '20613738.0']\n",
      "['9857.29' '17881057.0']\n",
      "['47509.94' '21762134.0']\n",
      "['20188.02' '9351702.0']\n",
      "['98509.71' '20099781.0']\n",
      "['140271.4' '21001046.0']\n",
      "['18784.88' '12311582.0']\n",
      "['29969.66' '6113060.0']\n",
      "['18296.91' '16730157.0']\n",
      "['105345.4' '19005746.0']\n",
      "['41821.27' '12083640.0']\n",
      "['55829.79' '18334118.0']\n",
      "['39309.84' '19805347.0']\n",
      "['29741.12' '8651183.0']\n",
      "['8359.475' '9296515.0']\n",
      "['40330.08' '6090956.0']\n",
      "['25701.69' '4647209.0']\n",
      "['15624.68' '4156013.0']\n",
      "['10613.34' '20228618.0']\n",
      "['53671.92' '19467498.0']\n",
      "['103026.8' '19640302.0']\n",
      "['82203.45000000001' '2817499.0']\n",
      "['44034.82' '15048753.0']\n",
      "['10277.33' '10366883.0']\n",
      "['36918.96' '18059655.0']\n",
      "['57367.1' '12141519.0']\n",
      "['2155310.0' '35971.51']\n",
      "['64666.48' '18924412.0']\n",
      "['25173.5' '10001727.0']\n",
      "['79062.44' '20671702.0']\n",
      "['75004.04999999999' '3283674.0']\n",
      "['10322.13' '18706590.0']\n",
      "['9829.665' '21904611.0']\n",
      "['12874752.0' '14369.5']\n",
      "['63648.12' '16744434.0']\n",
      "['67867.24' '11515290.0']\n",
      "['19590.31' '4108880.0']\n",
      "['178969.48' '9704688.0']\n",
      "['87502.04999999999' '18324322.0']\n",
      "['9024.455' '822993.0']\n",
      "['100433.58' '1639269.0']\n",
      "['18884552.0' '9857.68']\n",
      "['129605.52' '6999997.0']\n",
      "['41543.64' '21723268.0']\n",
      "['13940318.0' '15781.52']\n",
      "['22308.01' '1724659.0']\n",
      "['17394.32' '11403141.0']\n",
      "['90789.21' '5101781.0']\n",
      "['15678.385' '22641761.0']\n",
      "['16799876.0' '97907.04']\n",
      "['115123.16' '17474415.0']\n",
      "['13931994.0' '32967.94']\n",
      "['143802.44' '17655551.0']\n",
      "['33411.91' '12148578.0']\n",
      "['64721.58' '20286590.0']\n",
      "['18549.28' '5444147.0']\n",
      "['16544.455' '2251358.0']\n",
      "['32012.65' '18204954.0']\n",
      "['122069.01' '18996379.0']\n",
      "['51582.54' '2978717.0']\n",
      "['14953953.0' '35263.09']\n",
      "['85926.78' '22155905.0']\n",
      "['120789.44' '17756105.0']\n",
      "['20524.7' '19968464.0']\n",
      "['27171.26' '15900012.0']\n",
      "['48646.5' '8376723.0']\n",
      "['135200.12' '19433157.0']\n",
      "['18261.36' '13301420.0']\n",
      "['83930.72' '19967839.0' '20501034.0']\n",
      "['18122.59' '21082014.0']\n",
      "['42904.26' '378844.0']\n",
      "['21639.39' '21888256.0']\n",
      "['23266988.0' '86765.12']\n",
      "['131253.81' '1942262.0']\n",
      "['3656455.0' '29280.44']\n",
      "['20186.02' '586359.0']\n",
      "['29827.36' '13351820.0']\n",
      "['37909.82' '2526215.0']\n",
      "['87786.15' '8229642.0']\n",
      "['28021.64' '2805708.0']\n",
      "['21017.01' '17353657.0']\n",
      "['62874.96' '23181767.0']\n",
      "['70981.16' '12775737.0']\n",
      "['16558.12' '6573809.0']\n",
      "['42534.99' '9821410.0']\n",
      "['31641.76' '20065000.0']\n",
      "['30536.62' '2547968.0']\n",
      "['32827.25' '20179076.0']\n",
      "['37551.78' '23912939.0']\n",
      "['86255.8' '17217909.0']\n",
      "['8391053.0' '19621.94']\n",
      "['32181.66' '1135821.0']\n",
      "['36115.92' '21710332.0']\n",
      "['8422.385' '21367283.0']\n",
      "['17482.49' '13371038.0']\n",
      "['9594534.0' '146598.88']\n",
      "['16833.86' '17188755.0']\n",
      "['16574.41' '5199759.0']\n",
      "['1888622.0' '105740.97']\n",
      "['18507.35' '23076807.0']\n",
      "['93089.52' '15568217.0']\n",
      "['135941.28' '17166521.0']\n",
      "['95569.2' '687890.0']\n",
      "['63354.36' '21740516.0']\n",
      "['79237.8' '10347315.0']\n",
      "['6743776.0' '24688.88']\n",
      "['7077243.0' '136386.2']\n",
      "['17682.035' '14187917.0']\n",
      "['126664.28' '20890535.0']\n",
      "['173569.2' '14924449.0']\n",
      "['8621042.0' '8814.92']\n",
      "['23483982.0' '33778.42']\n",
      "['16735.02' '12953013.0']\n",
      "['12029909.0' '20760.75']\n",
      "['33061.79' '6980235.0']\n",
      "['24192.59' '15145334.0']\n",
      "['68299.4' '3353125.0' '4155875.0']\n",
      "['123947.36' '16681206.0']\n",
      "['19487.775' '18716248.0']\n",
      "['60082.77' '21073414.0']\n",
      "['15344.79' '4528840.0']\n",
      "['7788.985' '2167291.0']\n",
      "['31530.76' '2597096.0']\n",
      "['17926.7' '15781959.0']\n",
      "['34433.04' '7235378.0']\n",
      "['6397485.0' '125222.6']\n",
      "['2067041.0' '37024.7']\n",
      "['14045.15' '6755739.0']\n",
      "['13315.2' '19083265.0']\n",
      "['48597.42' '13090136.0']\n",
      "['93666.33' '13004618.0']\n",
      "['94587.66' '15219276.0']\n",
      "['49652.52' '7876839.0']\n",
      "['20538.77' '20484634.0']\n",
      "['119643.12' '7888039.0']\n",
      "['17997617.0' '74349.18']\n",
      "['16077755.0' '40656.6']\n",
      "['102665.07' '1303573.0']\n",
      "['13251.255' '21111055.0']\n",
      "['11323544.0' '33349.63']\n",
      "['26526.93' '1605533.0']\n",
      "['16474.49' '20247560.0']\n",
      "['15339.75' '325923.0']\n",
      "['18759.61' '4262933.0']\n",
      "['25856.84' '21379346.0']\n",
      "['9602.285' '9077366.0']\n",
      "['16197.91' '17938268.0']\n",
      "['60148.65' '19506381.0']\n",
      "['134327.56' '14215790.0']\n",
      "['45403.1' '15724911.0']\n",
      "['15088.35' '17553687.0']\n",
      "['22530.69' '11750262.0']\n",
      "['11313151.0' '19355.62']\n",
      "['18671.92' '11698239.0']\n",
      "['24418.33' '6878041.0']\n",
      "['16347580.0' '37516.41']\n",
      "['78570.28' '17951532.0']\n",
      "['58366.22' '4494121.0']\n",
      "['32300.85' '952323.0']\n",
      "['62428.53' '23150353.0']\n",
      "['78417.44' '21882475.0']\n",
      "['89956.16' '18565861.0']\n",
      "['34269.74' '21511365.0']\n",
      "['38600.74' '2093173.0']\n",
      "['19012.18' '5613603.0']\n",
      "['142544.36' '23942655.0']\n",
      "['167492.8' '2569167.0']\n",
      "['90562.83' '16237903.0']\n",
      "['35793.97' '11712577.0']\n",
      "['84374.12' '18884777.0']\n",
      "['14041046.0' '147221.48']\n",
      "['124692.08' '3449550.0']\n",
      "['16387868.0' '57377.16' '2101888.0']\n",
      "['30564.96' '4671933.0']\n",
      "['98198.07' '19987019.0']\n",
      "['18465.74' '8800037.0']\n",
      "['61127.37' '864701.0']\n",
      "['43787.09' '16760579.0']\n",
      "['146399.88' '18010485.0']\n",
      "['35149.1' '21735527.0' '11084744.0']\n",
      "['17692.26' '20803030.0']\n",
      "['19215.09' '20368494.0']\n",
      "['38698.64' '4206569.0']\n",
      "['106529.8' '6605051.0']\n",
      "['5794377.0' '146310.68']\n",
      "['26196.39' '20570363.0']\n",
      "['17908.01' '18902186.0']\n",
      "['37002.58' '19015517.0']\n",
      "['4894060.0' '17980.355']\n",
      "['18084.08' '18622808.0']\n",
      "['16465.64' '4355067.0']\n",
      "['15823.87' '24188807.0']\n",
      "['93550.95' '21701281.0']\n",
      "['110721.66' '8092590.0']\n",
      "['115494.2' '18217875.0']\n",
      "['72152.8' '8339414.0']\n",
      "['7169.585' '19454415.0']\n",
      "['73562.46' '14285494.0']\n",
      "['77020.76' '22704677.0']\n",
      "['85421.19' '17012088.0']\n",
      "['95596.35' '22598167.0']\n",
      "['16809.56' '8810368.0']\n",
      "['61169.81999999999' '11766033.0']\n",
      "['21271789.0' '147819.96']\n",
      "['36665.05' '580744.0']\n",
      "['16572.96' '18537669.0']\n",
      "['17638.12' '10759361.0']\n",
      "['20354.85' '14089102.0']\n",
      "['61358.82' '8699472.0']\n",
      "['75605.82' '7038656.0']\n",
      "['33882.6' '4116141.0']\n",
      "['15932.725' '16729446.0']\n",
      "['7573511.0' '57697.74000000001']\n",
      "['14027.195' '14399044.0']\n",
      "['44747.54' '3031039.0']\n",
      "['20091.86' '16970134.0']\n",
      "['33735.42' '1200455.0']\n",
      "['28206.96' '8507441.0']\n",
      "['94511.76' '12032406.0']\n",
      "['44184.71' '578236.0']\n",
      "['72000.7' '2568033.0' '14795718.0']\n",
      "['67223.06999999999' '14368478.0']\n",
      "['9470.255' '11874543.0']\n",
      "['15645.89' '5992743.0']\n",
      "['52475.7' '9295469.0']\n",
      "['14927759.0' '17373.39']\n",
      "['159058.44' '5413938.0']\n",
      "['178814.16' '12717672.0']\n",
      "['17538.28' '12400513.0']\n",
      "['63259.8' '17439741.0']\n",
      "['139538.32' '10252920.0']\n",
      "['77034.0' '15308303.0']\n",
      "['24308.05' '20025646.0']\n",
      "['54231.16' '2546333.0']\n",
      "['132262.74' '9389456.0']\n",
      "['7464.64' '275234.0']\n",
      "['18942.005' '440403.0']\n",
      "['29768.44' '20056517.0']\n",
      "['50818.83' '19337775.0']\n",
      "['20378.795' '17898652.0']\n",
      "['37367.34' '2251666.0']\n",
      "['106546.08' '17085468.0']\n",
      "['52338.56999999999' '7980216.0' '15975348.0']\n",
      "['35239.54' '10614827.0']\n",
      "['9944.365' '19567220.0']\n",
      "['83340.98' '739493.0']\n",
      "['16264.7' '15043888.0']\n",
      "['31902.65' '14571808.0']\n",
      "['9853.855' '11030668.0']\n",
      "['30972.54' '21246612.0']\n",
      "['172891.36' '18940892.0']\n",
      "['36063.45' '10805206.0']\n",
      "['173721.16' '1353477.0']\n",
      "['14129.76' '2592822.0']\n",
      "['74203.38' '9950314.0']\n",
      "['19920.93' '11883149.0']\n",
      "['21678911.0' '19807.545']\n",
      "['64324.36' '2178083.0']\n",
      "['11492225.0' '45070.56']\n",
      "['117502.8' '7460121.0']\n",
      "['110138.4' '21292636.0']\n",
      "['14664.91' '10648580.0']\n",
      "['103968.38999999998' '1034126.0']\n",
      "['18968.18' '11621521.0']\n",
      "['49639.2' '14363582.0']\n",
      "['54430.71' '12920796.0']\n",
      "['92561.2' '18066506.0']\n",
      "['42082.91' '10867277.0']\n",
      "['28572.39' '6515990.0']\n",
      "['17222.53' '9412058.0']\n",
      "['40255.56' '11451837.0']\n",
      "['14132.77' '7674718.0']\n",
      "['83552.12' '15746977.0']\n",
      "['102626.97' '16219206.0']\n",
      "['9000.425' '10300239.0']\n",
      "['108064.48' '21936192.0' '18384078.0' '18678696.0']\n",
      "['30564.65' '8216934.0' '21862769.0']\n",
      "['34956.58' '15294387.0']\n",
      "['22378557.0' '122322.0']\n",
      "['8892.36' '18946794.0']\n",
      "['55115.26' '18321864.0']\n",
      "['16521766.0' '76257.52']\n",
      "['19924.14' '19706755.0']\n",
      "['128363.64' '12399758.0']\n",
      "['16860.705' '12670738.0']\n",
      "['7822458.0' '16568.425']\n",
      "['110529.93' '14969275.0']\n",
      "['7680.08' '6561397.0']\n",
      "['62475.66' '19513928.0']\n",
      "['79494.4' '11190233.0']\n",
      "['31204.74' '14596798.0']\n",
      "['74106.94' '17718527.0']\n",
      "['3950629.0' '44188.5']\n",
      "['50043.27' '16848804.0']\n",
      "['10389.575' '7804958.0']\n",
      "['114588.4' '21366989.0']\n",
      "['104428.08' '11066005.0']\n",
      "['49056.09' '18116366.0']\n",
      "['9548.815' '17650562.0']\n",
      "['63597.74' '19768015.0']\n",
      "['76391.48' '13187253.0']\n",
      "['82240.98' '5358478.0' '10338689.0']\n",
      "['40193.94' '8128894.0']\n",
      "['15330.305' '24198062.0']\n",
      "['9917.285' '11308893.0']\n",
      "['69601.68' '19134169.0']\n",
      "['28893.09' '4590973.0']\n",
      "['4493796.0' '64404.16']\n",
      "['20903431.0' '80541.51']\n",
      "['43568.84' '17488375.0']\n",
      "['14630332.0' '17116.55']\n",
      "['58063.48' '20189519.0']\n",
      "['78443.48' '20350298.0']\n",
      "['15035.19' '7711339.0']\n"
     ]
    }
   ],
   "source": [
    "# for i in a[a].index:\n",
    "#    print(dt[dt['Customer_ID'] == i ]['Annual_Income'].unique())"
   ]
  },
  {
   "cell_type": "code",
   "execution_count": 9,
   "id": "201b395b",
   "metadata": {},
   "outputs": [],
   "source": [
    "# keep the value of Annual Income that exist in majority for each customer\n",
    "\n",
    "dt['Annual_Income'] = dt.groupby(dt.index // 8)['Annual_Income'].transform(lambda x: x.value_counts().idxmax())"
   ]
  },
  {
   "cell_type": "code",
   "execution_count": 10,
   "id": "34f50640",
   "metadata": {},
   "outputs": [],
   "source": [
    "dt['Annual_Income'] = pd.to_numeric(dt['Annual_Income'], errors='coerce') # convert to float"
   ]
  },
  {
   "cell_type": "markdown",
   "id": "24fdcd03",
   "metadata": {},
   "source": [
    "4. 'Num_Bank_Accounts' PREPROCESSING"
   ]
  },
  {
   "cell_type": "code",
   "execution_count": 41,
   "id": "f486dd46",
   "metadata": {},
   "outputs": [
    {
     "data": {
      "text/plain": [
       "-1        21\n",
       " 0      4328\n",
       " 1      4490\n",
       " 2      4304\n",
       " 3     11950\n",
       " 4     12186\n",
       " 5     12118\n",
       " 6     13001\n",
       " 7     12823\n",
       " 8     12765\n",
       " 9      5443\n",
       " 10     5247\n",
       " 11        9\n",
       " 18        1\n",
       " 26        1\n",
       " 27        1\n",
       " 28        3\n",
       " 29        1\n",
       " 30        1\n",
       " 31        1\n",
       " 32        1\n",
       " 33        2\n",
       " 34        4\n",
       " 35        1\n",
       " 37        3\n",
       "Name: Num_Bank_Accounts, dtype: int64"
      ]
     },
     "execution_count": 41,
     "metadata": {},
     "output_type": "execute_result"
    }
   ],
   "source": [
    "dt[\"Num_Bank_Accounts\"].value_counts().sort_index().head(25) "
   ]
  },
  {
   "cell_type": "code",
   "execution_count": 42,
   "id": "70a4950c",
   "metadata": {},
   "outputs": [
    {
     "data": {
      "text/plain": [
       "264       8\n",
       "265       8\n",
       "266       8\n",
       "267    1414\n",
       "268       8\n",
       "269       8\n",
       "270       8\n",
       "271       8\n",
       "Name: Num_Bank_Accounts, dtype: int64"
      ]
     },
     "execution_count": 42,
     "metadata": {},
     "output_type": "execute_result"
    }
   ],
   "source": [
    "dt[dt['Customer_ID'] == 'CUS_0x4004' ]['Num_Bank_Accounts'] #  !! false input !!"
   ]
  },
  {
   "cell_type": "markdown",
   "id": "66002bfb",
   "metadata": {},
   "source": [
    "We observe that the vast majority of customers have between 0 and 10 Bank Accounts and that the rest inputs are just errors. So, as before, we keep the value that exist in majority for each customer. Except there are two customers with majority of values equal to -1. We treat them separately. Customer 'CUS_0xa878' : 7 inputs are -1, 1 input is 0 and customer CUS_0x4f2a: 6 inputs are -1, 2 inputs are 0."
   ]
  },
  {
   "cell_type": "code",
   "execution_count": 43,
   "id": "3d588fe0",
   "metadata": {},
   "outputs": [
    {
     "data": {
      "text/plain": [
       "30328    0\n",
       "30329    0\n",
       "30330   -1\n",
       "30331   -1\n",
       "30332   -1\n",
       "30333   -1\n",
       "30334   -1\n",
       "30335   -1\n",
       "Name: Num_Bank_Accounts, dtype: int64"
      ]
     },
     "execution_count": 43,
     "metadata": {},
     "output_type": "execute_result"
    }
   ],
   "source": [
    "dt[dt['Customer_ID'] == 'CUS_0x4f2a' ]['Num_Bank_Accounts']"
   ]
  },
  {
   "cell_type": "code",
   "execution_count": 11,
   "id": "4928ccf2",
   "metadata": {},
   "outputs": [],
   "source": [
    "dt.loc[dt['Customer_ID'] == 'CUS_0x4f2a', 'Num_Bank_Accounts'] = 0\n",
    "dt.loc[dt['Customer_ID'] == 'CUS_0xa878', 'Num_Bank_Accounts'] = 0\n",
    "dt['Num_Bank_Accounts'] = dt.groupby(dt.index // 8)['Num_Bank_Accounts'].transform(lambda x: x.value_counts().idxmax())"
   ]
  },
  {
   "cell_type": "markdown",
   "id": "5062fad2",
   "metadata": {},
   "source": [
    "5. 'Num_Credit_Card' PREPROCESSING"
   ]
  },
  {
   "cell_type": "code",
   "execution_count": 46,
   "id": "87e1288d",
   "metadata": {},
   "outputs": [
    {
     "data": {
      "text/plain": [
       "0        13\n",
       "1      2132\n",
       "2      2149\n",
       "3     13277\n",
       "4     14030\n",
       "5     18459\n",
       "6     16559\n",
       "7     16615\n",
       "8      4956\n",
       "9      4643\n",
       "10     4860\n",
       "11       36\n",
       "15        3\n",
       "16        2\n",
       "17        1\n",
       "18        1\n",
       "20        1\n",
       "21        1\n",
       "22        2\n",
       "24        1\n",
       "Name: Num_Credit_Card, dtype: int64"
      ]
     },
     "execution_count": 46,
     "metadata": {},
     "output_type": "execute_result"
    }
   ],
   "source": [
    "dt[\"Num_Credit_Card\"].value_counts().sort_index().head(20) # We proceed as above."
   ]
  },
  {
   "cell_type": "code",
   "execution_count": 12,
   "id": "03ba8192",
   "metadata": {},
   "outputs": [],
   "source": [
    "dt['Num_Credit_Card'] = dt.groupby(dt.index // 8)['Num_Credit_Card'].transform(lambda x: x.value_counts().idxmax())"
   ]
  },
  {
   "cell_type": "code",
   "execution_count": 48,
   "id": "8c5f37ca",
   "metadata": {},
   "outputs": [
    {
     "data": {
      "text/plain": [
       "1      2200\n",
       "2      2168\n",
       "3     13592\n",
       "4     14336\n",
       "5     18904\n",
       "6     16936\n",
       "7     17024\n",
       "8      5096\n",
       "9      4736\n",
       "10     4968\n",
       "11       40\n",
       "Name: Num_Credit_Card, dtype: int64"
      ]
     },
     "execution_count": 48,
     "metadata": {},
     "output_type": "execute_result"
    }
   ],
   "source": [
    "dt[\"Num_Credit_Card\"].value_counts().sort_index().head(20) "
   ]
  },
  {
   "cell_type": "markdown",
   "id": "eecadca0",
   "metadata": {},
   "source": [
    "6. 'Interest_Rate' PREPROCESSING"
   ]
  },
  {
   "cell_type": "code",
   "execution_count": 20,
   "id": "9183a0b6",
   "metadata": {},
   "outputs": [
    {
     "data": {
      "text/plain": [
       "1     2683\n",
       "2     2465\n",
       "3     2765\n",
       "4     2589\n",
       "5     4979\n",
       "6     4721\n",
       "7     4494\n",
       "8     5012\n",
       "9     4494\n",
       "10    4540\n",
       "11    4428\n",
       "12    4540\n",
       "13    2384\n",
       "14    2229\n",
       "15    3992\n",
       "16    3730\n",
       "17    3813\n",
       "18    4102\n",
       "19    3630\n",
       "20    3929\n",
       "21    1560\n",
       "22    1720\n",
       "23    1683\n",
       "24    1685\n",
       "25    1566\n",
       "26    1489\n",
       "27    1608\n",
       "28    1616\n",
       "29    1662\n",
       "30    1690\n",
       "31    1457\n",
       "32    1742\n",
       "33    1467\n",
       "34    1502\n",
       "59       1\n",
       "60       1\n",
       "64       1\n",
       "67       1\n",
       "73       1\n",
       "74       1\n",
       "75       2\n",
       "76       2\n",
       "77       1\n",
       "81       1\n",
       "87       1\n",
       "89       1\n",
       "91       1\n",
       "92       1\n",
       "94       1\n",
       "95       2\n",
       "Name: Interest_Rate, dtype: int64"
      ]
     },
     "execution_count": 20,
     "metadata": {},
     "output_type": "execute_result"
    }
   ],
   "source": [
    "dt[\"Interest_Rate\"].value_counts().sort_index().head(50) "
   ]
  },
  {
   "cell_type": "markdown",
   "id": "41a9ac3d",
   "metadata": {},
   "source": [
    "This attribute does not have null values but errors do exist. We work as before."
   ]
  },
  {
   "cell_type": "code",
   "execution_count": 13,
   "id": "18a0ba1c",
   "metadata": {},
   "outputs": [],
   "source": [
    "dt['Interest_Rate'] = dt.groupby(dt.index // 8)['Interest_Rate'].transform(lambda x: x.value_counts().idxmax())"
   ]
  },
  {
   "cell_type": "code",
   "execution_count": 50,
   "id": "d00dd406",
   "metadata": {},
   "outputs": [
    {
     "data": {
      "text/plain": [
       "1     2744\n",
       "2     2520\n",
       "3     2824\n",
       "4     2640\n",
       "5     5096\n",
       "6     4832\n",
       "7     4584\n",
       "8     5104\n",
       "9     4576\n",
       "10    4616\n",
       "11    4512\n",
       "12    4648\n",
       "13    2432\n",
       "14    2272\n",
       "15    4072\n",
       "16    3800\n",
       "17    3888\n",
       "18    4192\n",
       "19    3704\n",
       "20    4008\n",
       "21    1592\n",
       "22    1752\n",
       "23    1720\n",
       "24    1736\n",
       "25    1608\n",
       "26    1528\n",
       "27    1640\n",
       "28    1648\n",
       "29    1696\n",
       "30    1728\n",
       "31    1488\n",
       "32    1776\n",
       "33    1496\n",
       "34    1528\n",
       "Name: Interest_Rate, dtype: int64"
      ]
     },
     "execution_count": 50,
     "metadata": {},
     "output_type": "execute_result"
    }
   ],
   "source": [
    "dt[\"Interest_Rate\"].value_counts().sort_index().head(50) "
   ]
  },
  {
   "cell_type": "markdown",
   "id": "05d35c0b",
   "metadata": {},
   "source": [
    "7. \"Num_of_Loan\" PREPROCESSING"
   ]
  },
  {
   "cell_type": "code",
   "execution_count": 11,
   "id": "408c66e7",
   "metadata": {},
   "outputs": [
    {
     "data": {
      "text/plain": [
       "-100      3876\n",
       "0        10380\n",
       "0_         550\n",
       "1        10083\n",
       "100          1\n",
       "1001         1\n",
       "1002         1\n",
       "1006         1\n",
       "1008         1\n",
       "101          1\n",
       "1014         1\n",
       "1015         1\n",
       "1017         2\n",
       "1019         1\n",
       "1023         1\n",
       "1027_        1\n",
       "103          1\n",
       "1030         1\n",
       "1035         1\n",
       "1036         1\n",
       "Name: Num_of_Loan, dtype: int64"
      ]
     },
     "execution_count": 11,
     "metadata": {},
     "output_type": "execute_result"
    }
   ],
   "source": [
    "dt[\"Num_of_Loan\"].value_counts().sort_index().head(20) "
   ]
  },
  {
   "cell_type": "markdown",
   "id": "3efded88",
   "metadata": {},
   "source": [
    "Here, we need to get rid of \"_\", change the data type to integer and keep the majority vote for each customer to exclude error inputs. There are no missing values."
   ]
  },
  {
   "cell_type": "code",
   "execution_count": 14,
   "id": "028a931d",
   "metadata": {},
   "outputs": [],
   "source": [
    "dt['Num_of_Loan'] = dt['Num_of_Loan'].str.rstrip(\"_\")\n",
    "dt['Num_of_Loan'] = pd.to_numeric(dt['Num_of_Loan'], errors='coerce')\n",
    "dt['Num_of_Loan'] = dt.groupby(dt.index // 8)['Num_of_Loan'].transform(lambda x: x.value_counts().idxmax())"
   ]
  },
  {
   "cell_type": "markdown",
   "id": "4684836e",
   "metadata": {},
   "source": [
    "8. \"Delay_from_due_date\" PREPROCESSING"
   ]
  },
  {
   "cell_type": "code",
   "execution_count": 52,
   "id": "fc8c8f8f",
   "metadata": {},
   "outputs": [
    {
     "data": {
      "text/plain": [
       "Customer_ID  Delay_from_due_date\n",
       "CUS_0x1d72    20                    1\n",
       "CUS_0x5269    64                    2\n",
       "CUS_0x4d9c    27                    1\n",
       "CUS_0xba13    5                     1\n",
       "CUS_0x5c0f    14                    2\n",
       "CUS_0x2d22    15                    7\n",
       "CUS_0xbc51    10                    1\n",
       "CUS_0x649e    6                     1\n",
       "CUS_0x8391    10                    1\n",
       "CUS_0xba60    7                     6\n",
       "CUS_0x6728    32                    1\n",
       "CUS_0x575e    18                    1\n",
       "CUS_0x830e    8                     1\n",
       "CUS_0xa974    18                    2\n",
       "CUS_0xb904    20                    1\n",
       "CUS_0x9235   -3                     1\n",
       "CUS_0x1563    11                    1\n",
       "CUS_0x1769    10                    1\n",
       "CUS_0x8945    32                    6\n",
       "CUS_0x97d7    32                    2\n",
       "Name: Delay_from_due_date, dtype: int64"
      ]
     },
     "execution_count": 52,
     "metadata": {},
     "output_type": "execute_result"
    }
   ],
   "source": [
    "dt.groupby(\"Customer_ID\")[\"Delay_from_due_date\"].value_counts().sample(20)"
   ]
  },
  {
   "cell_type": "code",
   "execution_count": 60,
   "id": "24450e4b",
   "metadata": {},
   "outputs": [
    {
     "name": "stdout",
     "output_type": "stream",
     "text": [
      "The maximum days of delay are: 67 while the minimum ones are: -5\n"
     ]
    }
   ],
   "source": [
    "print(\"The maximum days of delay are:\",dt[\"Delay_from_due_date\"].max(),\"while the minimum ones are:\",\n",
    "      dt[\"Delay_from_due_date\"].min()) "
   ]
  },
  {
   "cell_type": "markdown",
   "id": "c2807265",
   "metadata": {},
   "source": [
    "This attribute does not have missing values and has the right dtype,so does not need any change."
   ]
  },
  {
   "cell_type": "markdown",
   "id": "c75cc158",
   "metadata": {},
   "source": [
    "9. \"Num_of_Delayed_Payment\" PREPROCESSING"
   ]
  },
  {
   "cell_type": "markdown",
   "id": "87883b13",
   "metadata": {},
   "source": [
    "This attribute has some missing values and and does not have the right dtype."
   ]
  },
  {
   "cell_type": "code",
   "execution_count": 54,
   "id": "14efdfe1",
   "metadata": {},
   "outputs": [
    {
     "data": {
      "text/plain": [
       "-1       308\n",
       "-1_        8\n",
       "-2       223\n",
       "-2_       11\n",
       "-3        91\n",
       "-3_        3\n",
       "0       1568\n",
       "0_        41\n",
       "1       1586\n",
       "10      5153\n",
       "1004       1\n",
       "1014       2\n",
       "1015       1\n",
       "1018       1\n",
       "102        1\n",
       "1034       1\n",
       "1045       1\n",
       "1049       1\n",
       "106        1\n",
       "1060       1\n",
       "Name: Num_of_Delayed_Payment, dtype: int64"
      ]
     },
     "execution_count": 54,
     "metadata": {},
     "output_type": "execute_result"
    }
   ],
   "source": [
    "dt[\"Num_of_Delayed_Payment\"].value_counts().sort_index().head(20) "
   ]
  },
  {
   "cell_type": "code",
   "execution_count": 15,
   "id": "a361138f",
   "metadata": {},
   "outputs": [],
   "source": [
    "dt['Num_of_Delayed_Payment'] = dt['Num_of_Delayed_Payment'].str.rstrip(\"_\")\n",
    "dt['Num_of_Delayed_Payment'] = pd.to_numeric(dt['Num_of_Delayed_Payment'], errors='coerce')\n",
    "dt['Num_of_Delayed_Payment'] = dt.groupby(dt.index // 8)['Num_of_Delayed_Payment'].transform(lambda x: x.value_counts().idxmax())"
   ]
  },
  {
   "cell_type": "code",
   "execution_count": 59,
   "id": "ee99e24e",
   "metadata": {},
   "outputs": [
    {
     "data": {
      "text/plain": [
       "-2.0       40\n",
       "-1.0       48\n",
       " 0.0     2072\n",
       " 1.0     2024\n",
       " 2.0     2128\n",
       " 3.0     1992\n",
       " 4.0     1920\n",
       " 5.0     2120\n",
       " 6.0     2144\n",
       " 7.0     1968\n",
       " 8.0     5872\n",
       " 9.0     5672\n",
       " 10.0    6216\n",
       " 11.0    5400\n",
       " 12.0    5672\n",
       " 13.0    3792\n",
       " 14.0    3944\n",
       " 15.0    6032\n",
       " 16.0    6112\n",
       " 17.0    5816\n",
       " 18.0    5768\n",
       " 19.0    6400\n",
       " 20.0    6192\n",
       " 21.0    2192\n",
       " 22.0    2072\n",
       " 23.0    2096\n",
       " 24.0    2000\n",
       " 25.0    2224\n",
       " 26.0      16\n",
       " 27.0      32\n",
       "Name: Num_of_Delayed_Payment, dtype: int64"
      ]
     },
     "execution_count": 59,
     "metadata": {},
     "output_type": "execute_result"
    }
   ],
   "source": [
    "dt[\"Num_of_Delayed_Payment\"].value_counts().sort_index().head(30) "
   ]
  },
  {
   "cell_type": "markdown",
   "id": "b74d4d9d",
   "metadata": {},
   "source": [
    "10. \"Changed_Credit_Limit\" PREPROCESSING"
   ]
  },
  {
   "cell_type": "code",
   "execution_count": 61,
   "id": "a8bf4296",
   "metadata": {},
   "outputs": [
    {
     "data": {
      "text/plain": [
       "0     11.27\n",
       "1     11.27\n",
       "2         _\n",
       "3      6.27\n",
       "4     11.27\n",
       "5      9.27\n",
       "6     11.27\n",
       "7     11.27\n",
       "8      5.42\n",
       "9      7.42\n",
       "10     5.42\n",
       "11     5.42\n",
       "12     6.42\n",
       "13     5.42\n",
       "14     5.42\n",
       "Name: Changed_Credit_Limit, dtype: object"
      ]
     },
     "execution_count": 61,
     "metadata": {},
     "output_type": "execute_result"
    }
   ],
   "source": [
    "dt[\"Changed_Credit_Limit\"].head(15) "
   ]
  },
  {
   "cell_type": "code",
   "execution_count": 64,
   "id": "6c5b978a",
   "metadata": {},
   "outputs": [
    {
     "data": {
      "text/plain": [
       "64     8.24\n",
       "65        _\n",
       "66        _\n",
       "67     8.24\n",
       "68    11.24\n",
       "69     8.24\n",
       "70     8.24\n",
       "71     8.24\n",
       "Name: Changed_Credit_Limit, dtype: object"
      ]
     },
     "execution_count": 64,
     "metadata": {},
     "output_type": "execute_result"
    }
   ],
   "source": [
    "dt[dt[\"Customer_ID\"]==\"CUS_0x4157\"][\"Changed_Credit_Limit\"]"
   ]
  },
  {
   "cell_type": "markdown",
   "id": "b8338913",
   "metadata": {},
   "source": [
    "We suppose that \"_\" means that credit limit didn't change and we also change the dtype."
   ]
  },
  {
   "cell_type": "code",
   "execution_count": 16,
   "id": "e01ef9db",
   "metadata": {},
   "outputs": [
    {
     "name": "stderr",
     "output_type": "stream",
     "text": [
      "C:\\Users\\B590\\AppData\\Local\\Temp\\ipykernel_4932\\1432636874.py:6: FutureWarning: Series.fillna with 'method' is deprecated and will raise in a future version. Use obj.ffill() or obj.bfill() instead.\n",
      "  lambda x: x.fillna(method=\"ffill\").fillna(method=\"bfill\"))\n"
     ]
    }
   ],
   "source": [
    "import numpy as np\n",
    "\n",
    "dt.loc[(dt[\"Changed_Credit_Limit\"] == \"_\"), \"Changed_Credit_Limit\"] = np.nan\n",
    "\n",
    "dt[\"Changed_Credit_Limit\"] = dt.groupby( \"Customer_ID\")[\"Changed_Credit_Limit\"].transform(\n",
    "        lambda x: x.fillna(method=\"ffill\").fillna(method=\"bfill\"))\n",
    "\n",
    "dt[\"Changed_Credit_Limit\"] = pd.to_numeric(dt[\"Changed_Credit_Limit\"],downcast=\"float\").round(3)"
   ]
  },
  {
   "cell_type": "code",
   "execution_count": 67,
   "id": "f473a39a",
   "metadata": {},
   "outputs": [
    {
     "data": {
      "text/plain": [
       "0    11.27\n",
       "1    11.27\n",
       "2    11.27\n",
       "3     6.27\n",
       "4    11.27\n",
       "Name: Changed_Credit_Limit, dtype: float32"
      ]
     },
     "execution_count": 67,
     "metadata": {},
     "output_type": "execute_result"
    }
   ],
   "source": [
    "dt[\"Changed_Credit_Limit\"].head(5) "
   ]
  },
  {
   "cell_type": "markdown",
   "id": "9c533af1",
   "metadata": {},
   "source": [
    "11. \"Num_Credit_Inquiries\" PREPROCESSING"
   ]
  },
  {
   "cell_type": "code",
   "execution_count": 68,
   "id": "bd4c885d",
   "metadata": {},
   "outputs": [
    {
     "data": {
      "text/plain": [
       "0.0      6972\n",
       "1.0      7588\n",
       "2.0      8028\n",
       "3.0      8890\n",
       "4.0     11271\n",
       "5.0      5693\n",
       "6.0      8111\n",
       "7.0      8058\n",
       "8.0      7866\n",
       "9.0      5283\n",
       "10.0     4936\n",
       "11.0     5051\n",
       "12.0     4571\n",
       "13.0     1480\n",
       "14.0     1039\n",
       "15.0      808\n",
       "16.0      456\n",
       "17.0      284\n",
       "26.0        1\n",
       "29.0        1\n",
       "Name: Num_Credit_Inquiries, dtype: int64"
      ]
     },
     "execution_count": 68,
     "metadata": {},
     "output_type": "execute_result"
    }
   ],
   "source": [
    "dt[\"Num_Credit_Inquiries\"].value_counts().sort_index().head(20)"
   ]
  },
  {
   "cell_type": "code",
   "execution_count": 69,
   "id": "da6045a9",
   "metadata": {},
   "outputs": [
    {
     "data": {
      "text/plain": [
       "Customer_ID\n",
       "CUS_0x1000          [10.0, 11.0]\n",
       "CUS_0x1009            [2.0, 4.0]\n",
       "CUS_0x100b    [1.0, 2271.0, 4.0]\n",
       "CUS_0x1011         [7.0, 1965.0]\n",
       "CUS_0x1013                 [3.0]\n",
       "                     ...        \n",
       "CUS_0xff3             [3.0, 5.0]\n",
       "CUS_0xff4             [5.0, nan]\n",
       "CUS_0xff6             [nan, 2.0]\n",
       "CUS_0xffc            [8.0, 13.0]\n",
       "CUS_0xffd     [1801.0, nan, 7.0]\n",
       "Name: Num_Credit_Inquiries, Length: 12500, dtype: object"
      ]
     },
     "execution_count": 69,
     "metadata": {},
     "output_type": "execute_result"
    }
   ],
   "source": [
    "dt.groupby(\"Customer_ID\")[\"Num_Credit_Inquiries\"].unique() "
   ]
  },
  {
   "cell_type": "markdown",
   "id": "c956b5ac",
   "metadata": {},
   "source": [
    "From above it is obvious that there are null values and also values greater than 17 are false."
   ]
  },
  {
   "cell_type": "code",
   "execution_count": 17,
   "id": "d8b34229",
   "metadata": {},
   "outputs": [
    {
     "name": "stderr",
     "output_type": "stream",
     "text": [
      "C:\\Users\\B590\\AppData\\Local\\Temp\\ipykernel_4932\\2779503983.py:4: FutureWarning: Series.fillna with 'method' is deprecated and will raise in a future version. Use obj.ffill() or obj.bfill() instead.\n",
      "  lambda x: x.fillna(method=\"ffill\").fillna(method=\"bfill\"))\n"
     ]
    }
   ],
   "source": [
    "dt.loc[(dt[\"Num_Credit_Inquiries\"] > 17), \"Num_Credit_Inquiries\"] = pd.NA # set Nan all values above 17.\n",
    "\n",
    "dt[\"Num_Credit_Inquiries\"] = dt.groupby(\"Customer_ID\")[\"Num_Credit_Inquiries\"].transform(\n",
    "    lambda x: x.fillna(method=\"ffill\").fillna(method=\"bfill\")) "
   ]
  },
  {
   "cell_type": "markdown",
   "id": "b23a1882",
   "metadata": {},
   "source": [
    "12. 'Outstanding_Debt' PREPROCESSING "
   ]
  },
  {
   "cell_type": "code",
   "execution_count": 73,
   "id": "3c1d71b0",
   "metadata": {},
   "outputs": [
    {
     "data": {
      "text/plain": [
       "0.23       8\n",
       "0.34       8\n",
       "0.54       8\n",
       "0.56       8\n",
       "0.77       8\n",
       "0.95      16\n",
       "1.2        8\n",
       "1.23       8\n",
       "1.3        8\n",
       "1.33       8\n",
       "1.37       8\n",
       "1.42       8\n",
       "1.48       8\n",
       "10.29     16\n",
       "10.52      8\n",
       "10.54      8\n",
       "10.55      7\n",
       "10.55_     1\n",
       "10.77      8\n",
       "10.89      8\n",
       "Name: Outstanding_Debt, dtype: int64"
      ]
     },
     "execution_count": 73,
     "metadata": {},
     "output_type": "execute_result"
    }
   ],
   "source": [
    "dt[\"Outstanding_Debt\"].value_counts().sort_index().head(20)"
   ]
  },
  {
   "cell_type": "code",
   "execution_count": 74,
   "id": "d2fe49a7",
   "metadata": {},
   "outputs": [
    {
     "data": {
      "text/plain": [
       "Customer_ID\n",
       "CUS_0x1000            [1562.91]\n",
       "CUS_0x1009    [202.68, 202.68_]\n",
       "CUS_0x100b             [1030.2]\n",
       "CUS_0x1011             [473.14]\n",
       "CUS_0x1013            [1233.51]\n",
       "                    ...        \n",
       "CUS_0xff3             [1229.08]\n",
       "CUS_0xff4              [758.44]\n",
       "CUS_0xff6               [338.3]\n",
       "CUS_0xffc             [1300.13]\n",
       "CUS_0xffd             [1701.88]\n",
       "Name: Outstanding_Debt, Length: 12500, dtype: object"
      ]
     },
     "execution_count": 74,
     "metadata": {},
     "output_type": "execute_result"
    }
   ],
   "source": [
    "dt.groupby(\"Customer_ID\")[\"Outstanding_Debt\"].unique() "
   ]
  },
  {
   "cell_type": "code",
   "execution_count": 18,
   "id": "0bdbb173",
   "metadata": {},
   "outputs": [],
   "source": [
    "dt['Outstanding_Debt'] = dt['Outstanding_Debt'].str.rstrip(\"_\") # drop ' _ '\n",
    "dt['Outstanding_Debt'] = pd.to_numeric(dt['Outstanding_Debt'], errors='coerce') # convert to float"
   ]
  },
  {
   "cell_type": "markdown",
   "id": "cd4d5461",
   "metadata": {},
   "source": [
    "13. 'Credit_Utilization_Ratio' PREPROCESSING"
   ]
  },
  {
   "cell_type": "code",
   "execution_count": 76,
   "id": "c50bdd82",
   "metadata": {},
   "outputs": [
    {
     "data": {
      "text/plain": [
       "20.000000    1\n",
       "20.100770    1\n",
       "20.172942    1\n",
       "20.244130    1\n",
       "20.257073    1\n",
       "20.719745    1\n",
       "20.830946    1\n",
       "20.832487    1\n",
       "20.880082    1\n",
       "20.881250    1\n",
       "20.985606    1\n",
       "20.985919    1\n",
       "20.992914    1\n",
       "21.027665    1\n",
       "21.028690    1\n",
       "21.056721    1\n",
       "21.098676    1\n",
       "21.207252    1\n",
       "21.228503    1\n",
       "21.264254    1\n",
       "Name: Credit_Utilization_Ratio, dtype: int64"
      ]
     },
     "execution_count": 76,
     "metadata": {},
     "output_type": "execute_result"
    }
   ],
   "source": [
    "dt[\"Credit_Utilization_Ratio\"].value_counts().sort_index().head(20)"
   ]
  },
  {
   "cell_type": "markdown",
   "id": "e9674e6a",
   "metadata": {},
   "source": [
    "This attribute does not need preprocessing as it has the right dtype and does not have missing values "
   ]
  },
  {
   "cell_type": "markdown",
   "id": "bdf88a6d",
   "metadata": {},
   "source": [
    "14. 'Credit_History_Age' PREPROCESSING "
   ]
  },
  {
   "cell_type": "code",
   "execution_count": 79,
   "id": "1c9c2956",
   "metadata": {},
   "outputs": [
    {
     "data": {
      "text/plain": [
       "NaN                       9030\n",
       "15 Years and 11 Months     446\n",
       "19 Years and 4 Months      445\n",
       "19 Years and 5 Months      444\n",
       "17 Years and 11 Months     443\n",
       "Name: Credit_History_Age, dtype: int64"
      ]
     },
     "execution_count": 79,
     "metadata": {},
     "output_type": "execute_result"
    }
   ],
   "source": [
    "dt['Credit_History_Age'].value_counts(dropna=False).head(5)"
   ]
  },
  {
   "cell_type": "code",
   "execution_count": 19,
   "id": "e1bddab4",
   "metadata": {},
   "outputs": [],
   "source": [
    "# first, convert years and months to months.\n",
    "\n",
    "import re\n",
    "\n",
    "def age_to_months(age):\n",
    "    if pd.notna(age): \n",
    "        match = re.match(r\"(\\d+) Years\\s*and\\s*(\\d+) Months\", age)  \n",
    "        if match:\n",
    "            years = int(match.group(1))\n",
    "            months = int(match.group(2))\n",
    "            final_months = years * 12 + months\n",
    "            return final_months\n",
    "    return np.nan       # Return NaN if there is no match or if it is NaN"
   ]
  },
  {
   "cell_type": "code",
   "execution_count": 20,
   "id": "54b9fc1b",
   "metadata": {},
   "outputs": [],
   "source": [
    "dt['Credit_History_Age'] = dt['Credit_History_Age'].transform(age_to_months)"
   ]
  },
  {
   "cell_type": "code",
   "execution_count": 127,
   "id": "70a6cf7f",
   "metadata": {},
   "outputs": [
    {
     "data": {
      "text/plain": [
       "Customer_ID  Credit_History_Age\n",
       "CUS_0x1000   122.0                 1\n",
       "             123.0                 1\n",
       "             124.0                 1\n",
       "             125.0                 1\n",
       "             126.0                 1\n",
       "             127.0                 1\n",
       "             128.0                 1\n",
       "             129.0                 1\n",
       "CUS_0x1009   365.0                 1\n",
       "             366.0                 1\n",
       "             367.0                 1\n",
       "             369.0                 1\n",
       "             370.0                 1\n",
       "             371.0                 1\n",
       "             372.0                 1\n",
       "             NaN                   1\n",
       "CUS_0x100b   183.0                 1\n",
       "             185.0                 1\n",
       "             186.0                 1\n",
       "             187.0                 1\n",
       "Name: Credit_History_Age, dtype: int64"
      ]
     },
     "execution_count": 127,
     "metadata": {},
     "output_type": "execute_result"
    }
   ],
   "source": [
    "dt.groupby(\"Customer_ID\")['Credit_History_Age'].value_counts(dropna=False).sort_index().head(20)"
   ]
  },
  {
   "cell_type": "code",
   "execution_count": 21,
   "id": "86b902c3",
   "metadata": {},
   "outputs": [],
   "source": [
    "# Then, fill in nan values. The nun value shown above should be set to 373.0\n",
    "\n",
    "def consecutive_8_numbers(s):\n",
    "    \n",
    "    for i in range(0, len(s), 8):\n",
    "    # Define the start number for the current block of 8 rows\n",
    "        start_num = s[i] if not pd.isnull(s[i]) else s[i+1]-1 if not pd.isnull(s[i+1]-1) else s[i+2]-2 if not pd.isnull(s[i+2]-2) else s[i+3]-3 if not pd.isnull(s[i+3]-3) else s[i+4]-4 if not pd.isnull(s[i+4]-4) else s[i+5]-5 if not pd.isnull(s[i+5]-5) else s[i+6]-6 if not pd.isnull(s[i+6]-6) else s[i+7]-7 if not pd.isnull(s[i+7]-7) else 0 \n",
    "       \n",
    "        block = s[i:i+8]\n",
    "        start_num = int(start_num)\n",
    "    # Generate consecutive numbers starting from `start_num`\n",
    "        consecutive_values = pd.Series(range(start_num, start_num + 8), index=block.index)\n",
    "    \n",
    "    # Fill NaN values in the block with the corresponding consecutive values\n",
    "        s[i:i+8] = block.combine_first(consecutive_values)\n",
    "    return (s)\n",
    "\n",
    "dt['Credit_History_Age'] = consecutive_8_numbers(dt['Credit_History_Age'])"
   ]
  },
  {
   "cell_type": "code",
   "execution_count": 23,
   "id": "17794e50",
   "metadata": {},
   "outputs": [
    {
     "data": {
      "text/plain": [
       "Customer_ID  Credit_History_Age\n",
       "CUS_0x1000   122.0                 1\n",
       "             123.0                 1\n",
       "             124.0                 1\n",
       "             125.0                 1\n",
       "             126.0                 1\n",
       "             127.0                 1\n",
       "             128.0                 1\n",
       "             129.0                 1\n",
       "CUS_0x1009   365.0                 1\n",
       "             366.0                 1\n",
       "             367.0                 1\n",
       "             368.0                 1\n",
       "             369.0                 1\n",
       "             370.0                 1\n",
       "             371.0                 1\n",
       "             372.0                 1\n",
       "CUS_0x100b   183.0                 1\n",
       "             184.0                 1\n",
       "             185.0                 1\n",
       "             186.0                 1\n",
       "Name: count, dtype: int64"
      ]
     },
     "execution_count": 23,
     "metadata": {},
     "output_type": "execute_result"
    }
   ],
   "source": [
    "dt.groupby(\"Customer_ID\")['Credit_History_Age'].value_counts(dropna=False).sort_index().head(20)"
   ]
  },
  {
   "cell_type": "markdown",
   "id": "2adc8304",
   "metadata": {},
   "source": [
    "15.'Total_EMI_per_month' PREPROCESSING"
   ]
  },
  {
   "cell_type": "markdown",
   "id": "80df3c9d",
   "metadata": {},
   "source": [
    "EMI, or Equated Monthly Installment, is the fixed monthly payment made by a borrower to repay a loan over a specified term. EMIs are commonly used in loans such as mortgages, car loans, and personal loans, allowing borrowers to repay the loan in equal installments, covering both the interest and principal portions. The EMI amount stays the same each month. "
   ]
  },
  {
   "cell_type": "code",
   "execution_count": 132,
   "id": "ebf923e3",
   "metadata": {},
   "outputs": [
    {
     "data": {
      "text/plain": [
       "Customer_ID  Total_EMI_per_month\n",
       "CUS_0x1013   228.018084             7\n",
       "             48538.000000           1\n",
       "CUS_0x103e   55.004408              7\n",
       "             27369.000000           1\n",
       "CUS_0x105b   0.000000               4\n",
       "             285.423800             3\n",
       "             79286.000000           1\n",
       "CUS_0x1069   139.885013             7\n",
       "             10251.000000           1\n",
       "CUS_0x106f   143.483732             6\n",
       "             1357.000000            1\n",
       "             60413.000000           1\n",
       "CUS_0x1075   43.385046              4\n",
       "             196.027162             4\n",
       "CUS_0x107e   261.842409             7\n",
       "             78446.000000           1\n",
       "CUS_0x108a   454.419552             6\n",
       "             200.370042             2\n",
       "CUS_0x1098   33.238356              7\n",
       "             49236.000000           1\n",
       "Name: Total_EMI_per_month, dtype: int64"
      ]
     },
     "execution_count": 132,
     "metadata": {},
     "output_type": "execute_result"
    }
   ],
   "source": [
    "filtered_df = dt.groupby(\n",
    "    \"Customer_ID\")[\"Total_EMI_per_month\"].nunique().loc[lambda x: x > 1].index\n",
    "\n",
    "dt[dt[\"Customer_ID\"].isin(filtered_df)].groupby(\n",
    "    \"Customer_ID\")[\"Total_EMI_per_month\"].value_counts().head(20)"
   ]
  },
  {
   "cell_type": "code",
   "execution_count": 24,
   "id": "e1abfd71-10b1-40de-8c65-90053fa59f4b",
   "metadata": {},
   "outputs": [],
   "source": [
    "dt['Total_EMI_per_month'] = dt.groupby(dt.index // 8)['Total_EMI_per_month'].transform(lambda x: x.value_counts().idxmax())"
   ]
  },
  {
   "cell_type": "markdown",
   "id": "609f4893",
   "metadata": {},
   "source": [
    "16. 'Amount_invested_monthly' PREPROCESSING"
   ]
  },
  {
   "cell_type": "code",
   "execution_count": 135,
   "id": "d6c1a23d",
   "metadata": {},
   "outputs": [
    {
     "data": {
      "text/plain": [
       "43.72461709437765        1\n",
       "213.97800979403817       1\n",
       "78.49772657092517        1\n",
       "74.36660309585342        1\n",
       "34.66290609052614        1\n",
       "404.79848748401673       1\n",
       "401.1964806036356        1\n",
       "140.58140274528395       1\n",
       "60.97133255718485        1\n",
       "54.18595028760385        1\n",
       "24.02847744864441        1\n",
       "251.67258219721603       1\n",
       "173.2755025599617        1\n",
       "215.48638555294247       1\n",
       "125.95659173463726       1\n",
       "70.86997036607373        1\n",
       "180.7330951944497        1\n",
       "0.0                    169\n",
       "__10000__             4305\n",
       "NaN                   4479\n",
       "Name: Amount_invested_monthly, dtype: int64"
      ]
     },
     "execution_count": 135,
     "metadata": {},
     "output_type": "execute_result"
    }
   ],
   "source": [
    "dt['Amount_invested_monthly'].value_counts(dropna=False).sort_values().tail(20)"
   ]
  },
  {
   "cell_type": "code",
   "execution_count": 25,
   "id": "014da21b",
   "metadata": {},
   "outputs": [
    {
     "name": "stderr",
     "output_type": "stream",
     "text": [
      "C:\\Users\\B590\\AppData\\Local\\Temp\\ipykernel_4932\\3721343303.py:3: FutureWarning: Series.fillna with 'method' is deprecated and will raise in a future version. Use obj.ffill() or obj.bfill() instead.\n",
      "  dt['Amount_invested_monthly'] = dt.groupby(\"Customer_ID\")[\"Amount_invested_monthly\"].transform(lambda x: x.fillna(method=\"ffill\").fillna(method=\"bfill\")) # fill in nan values\n"
     ]
    }
   ],
   "source": [
    "dt['Amount_invested_monthly'] = dt['Amount_invested_monthly'].str.strip(\"_\") # drop _ from 10000\n",
    "dt['Amount_invested_monthly'] = pd.to_numeric(dt['Amount_invested_monthly'],downcast=\"float\").round(3)#convert to float\n",
    "dt['Amount_invested_monthly'] = dt.groupby(\"Customer_ID\")[\"Amount_invested_monthly\"].transform(lambda x: x.fillna(method=\"ffill\").fillna(method=\"bfill\")) # fill in nan values"
   ]
  },
  {
   "cell_type": "markdown",
   "id": "3f52653b",
   "metadata": {},
   "source": [
    "17. 'Monthly_Balance' PREPROCESSING"
   ]
  },
  {
   "cell_type": "code",
   "execution_count": 145,
   "id": "d83e2897",
   "metadata": {},
   "outputs": [
    {
     "data": {
      "text/plain": [
       "NaN                                 1200\n",
       "__-333333333333333333333333333__       9\n",
       "312.49408867943663                     1\n",
       "347.413889978152                       1\n",
       "254.9709216273975                      1\n",
       "                                    ... \n",
       "366.2890379762706                      1\n",
       "151.1882696261166                      1\n",
       "306.75027851710234                     1\n",
       "278.8720257394474                      1\n",
       "393.6736955618808                      1\n",
       "Name: Monthly_Balance, Length: 98793, dtype: int64"
      ]
     },
     "execution_count": 145,
     "metadata": {},
     "output_type": "execute_result"
    }
   ],
   "source": [
    "dt['Monthly_Balance'].value_counts(dropna=False)"
   ]
  },
  {
   "cell_type": "code",
   "execution_count": 26,
   "id": "39f48698",
   "metadata": {},
   "outputs": [
    {
     "name": "stderr",
     "output_type": "stream",
     "text": [
      "C:\\Users\\B590\\AppData\\Local\\Temp\\ipykernel_4932\\2614468509.py:3: FutureWarning: ChainedAssignmentError: behaviour will change in pandas 3.0!\n",
      "You are setting values through chained assignment. Currently this works in certain cases, but when using Copy-on-Write (which will become the default behaviour in pandas 3.0) this will never work to update the original DataFrame or Series, because the intermediate object on which we are setting values will behave as a copy.\n",
      "A typical example is when you are setting values in a column of a DataFrame, like:\n",
      "\n",
      "df[\"col\"][row_indexer] = value\n",
      "\n",
      "Use `df.loc[row_indexer, \"col\"] = values` instead, to perform the assignment in a single step and ensure this keeps updating the original `df`.\n",
      "\n",
      "See the caveats in the documentation: https://pandas.pydata.org/pandas-docs/stable/user_guide/indexing.html#returning-a-view-versus-a-copy\n",
      "\n",
      "  dt['Monthly_Balance'] [dt['Monthly_Balance']=='333333333333333333333333333']= np.nan # convert the error to nan\n",
      "C:\\Users\\B590\\AppData\\Local\\Temp\\ipykernel_4932\\2614468509.py:3: SettingWithCopyWarning: \n",
      "A value is trying to be set on a copy of a slice from a DataFrame\n",
      "\n",
      "See the caveats in the documentation: https://pandas.pydata.org/pandas-docs/stable/user_guide/indexing.html#returning-a-view-versus-a-copy\n",
      "  dt['Monthly_Balance'] [dt['Monthly_Balance']=='333333333333333333333333333']= np.nan # convert the error to nan\n",
      "C:\\Users\\B590\\AppData\\Local\\Temp\\ipykernel_4932\\2614468509.py:5: FutureWarning: Series.fillna with 'method' is deprecated and will raise in a future version. Use obj.ffill() or obj.bfill() instead.\n",
      "  dt['Monthly_Balance'] = dt.groupby(\"Customer_ID\")[\"Monthly_Balance\"].transform(lambda x: x.fillna(method=\"ffill\").fillna(method=\"bfill\")) # fill in nan values\n"
     ]
    }
   ],
   "source": [
    "dt['Monthly_Balance'] = dt['Monthly_Balance'].apply(\n",
    "    lambda x: x.replace('_', '').replace('-', '') if isinstance(x, str) else x) # drop - and _\n",
    "dt['Monthly_Balance'] [dt['Monthly_Balance']=='333333333333333333333333333']= np.nan # convert the error to nan\n",
    "dt['Monthly_Balance'] = pd.to_numeric(dt['Monthly_Balance'],downcast=\"float\") # convert to float\n",
    "dt['Monthly_Balance'] = dt.groupby(\"Customer_ID\")[\"Monthly_Balance\"].transform(lambda x: x.fillna(method=\"ffill\").fillna(method=\"bfill\")) # fill in nan values"
   ]
  },
  {
   "cell_type": "code",
   "execution_count": 147,
   "id": "e4b4e6ab",
   "metadata": {},
   "outputs": [
    {
     "data": {
      "text/plain": [
       "297.544250    5\n",
       "346.641663    5\n",
       "983.341858    4\n",
       "270.099976    4\n",
       "316.383881    4\n",
       "             ..\n",
       "375.772888    1\n",
       "405.774841    1\n",
       "468.799133    1\n",
       "13.863371     1\n",
       "393.673706    1\n",
       "Name: Monthly_Balance, Length: 98493, dtype: int64"
      ]
     },
     "execution_count": 147,
     "metadata": {},
     "output_type": "execute_result"
    }
   ],
   "source": [
    "dt['Monthly_Balance'].value_counts(dropna=False)"
   ]
  },
  {
   "cell_type": "markdown",
   "id": "c0f766ab",
   "metadata": {},
   "source": [
    "CLEANING CATEGORICAL COLUMNS"
   ]
  },
  {
   "cell_type": "markdown",
   "id": "33dbc468",
   "metadata": {},
   "source": [
    "1. 'Name' PREPROCESSING"
   ]
  },
  {
   "cell_type": "code",
   "execution_count": 152,
   "id": "a2af5e6a",
   "metadata": {},
   "outputs": [
    {
     "data": {
      "text/plain": [
       "75816               NaN\n",
       "75817    Anurag Kotokyf\n",
       "75818    Anurag Kotokyf\n",
       "75819    Anurag Kotokyf\n",
       "75820    Anurag Kotokyf\n",
       "75821    Anurag Kotokyf\n",
       "75822               NaN\n",
       "75823    Anurag Kotokyf\n",
       "Name: Name, dtype: object"
      ]
     },
     "execution_count": 152,
     "metadata": {},
     "output_type": "execute_result"
    }
   ],
   "source": [
    "dt[dt['Customer_ID'] == 'CUS_0xf20' ]['Name']"
   ]
  },
  {
   "cell_type": "code",
   "execution_count": 27,
   "id": "ae39bd22",
   "metadata": {},
   "outputs": [],
   "source": [
    "# for each 8 lines we want the same name.\n",
    "\n",
    "dt['Name'] = dt.groupby(dt.index // 8)['Name'].transform(lambda x: x.value_counts().idxmax())"
   ]
  },
  {
   "cell_type": "code",
   "execution_count": 154,
   "id": "c37f0919",
   "metadata": {},
   "outputs": [
    {
     "data": {
      "text/plain": [
       "75816    Anurag Kotokyf\n",
       "75817    Anurag Kotokyf\n",
       "75818    Anurag Kotokyf\n",
       "75819    Anurag Kotokyf\n",
       "75820    Anurag Kotokyf\n",
       "75821    Anurag Kotokyf\n",
       "75822    Anurag Kotokyf\n",
       "75823    Anurag Kotokyf\n",
       "Name: Name, dtype: object"
      ]
     },
     "execution_count": 154,
     "metadata": {},
     "output_type": "execute_result"
    }
   ],
   "source": [
    "dt[dt['Customer_ID'] == 'CUS_0xf20' ]['Name']"
   ]
  },
  {
   "cell_type": "markdown",
   "id": "d4349b43",
   "metadata": {},
   "source": [
    "2. 'Occupation' PREPROCESSING"
   ]
  },
  {
   "cell_type": "code",
   "execution_count": 158,
   "id": "4ecf630f",
   "metadata": {},
   "outputs": [
    {
     "data": {
      "text/plain": [
       "_______          7062\n",
       "Lawyer           6575\n",
       "Architect        6355\n",
       "Engineer         6350\n",
       "Scientist        6299\n",
       "Mechanic         6291\n",
       "Accountant       6271\n",
       "Developer        6235\n",
       "Media_Manager    6232\n",
       "Teacher          6215\n",
       "Entrepreneur     6174\n",
       "Doctor           6087\n",
       "Journalist       6085\n",
       "Manager          5973\n",
       "Musician         5911\n",
       "Writer           5885\n",
       "Name: Occupation, dtype: int64"
      ]
     },
     "execution_count": 158,
     "metadata": {},
     "output_type": "execute_result"
    }
   ],
   "source": [
    "dt['Occupation'].value_counts()"
   ]
  },
  {
   "cell_type": "code",
   "execution_count": 28,
   "id": "c86312b0",
   "metadata": {},
   "outputs": [
    {
     "name": "stderr",
     "output_type": "stream",
     "text": [
      "C:\\Users\\B590\\AppData\\Local\\Temp\\ipykernel_4932\\297052520.py:1: FutureWarning: ChainedAssignmentError: behaviour will change in pandas 3.0!\n",
      "You are setting values through chained assignment. Currently this works in certain cases, but when using Copy-on-Write (which will become the default behaviour in pandas 3.0) this will never work to update the original DataFrame or Series, because the intermediate object on which we are setting values will behave as a copy.\n",
      "A typical example is when you are setting values in a column of a DataFrame, like:\n",
      "\n",
      "df[\"col\"][row_indexer] = value\n",
      "\n",
      "Use `df.loc[row_indexer, \"col\"] = values` instead, to perform the assignment in a single step and ensure this keeps updating the original `df`.\n",
      "\n",
      "See the caveats in the documentation: https://pandas.pydata.org/pandas-docs/stable/user_guide/indexing.html#returning-a-view-versus-a-copy\n",
      "\n",
      "  dt['Occupation'] [dt['Occupation']=='_______']= np.nan\n",
      "C:\\Users\\B590\\AppData\\Local\\Temp\\ipykernel_4932\\297052520.py:1: SettingWithCopyWarning: \n",
      "A value is trying to be set on a copy of a slice from a DataFrame\n",
      "\n",
      "See the caveats in the documentation: https://pandas.pydata.org/pandas-docs/stable/user_guide/indexing.html#returning-a-view-versus-a-copy\n",
      "  dt['Occupation'] [dt['Occupation']=='_______']= np.nan\n"
     ]
    }
   ],
   "source": [
    "dt['Occupation'] [dt['Occupation']=='_______']= np.nan\n",
    "dt['Occupation'] = dt.groupby(dt.index // 8)['Occupation'].transform(lambda x: x.value_counts().idxmax())"
   ]
  },
  {
   "cell_type": "code",
   "execution_count": 164,
   "id": "7701f93f",
   "metadata": {},
   "outputs": [
    {
     "data": {
      "text/plain": [
       "Lawyer           7096\n",
       "Engineer         6864\n",
       "Architect        6824\n",
       "Mechanic         6776\n",
       "Scientist        6744\n",
       "Accountant       6744\n",
       "Developer        6720\n",
       "Media_Manager    6720\n",
       "Teacher          6672\n",
       "Entrepreneur     6648\n",
       "Doctor           6568\n",
       "Journalist       6536\n",
       "Manager          6432\n",
       "Musician         6352\n",
       "Writer           6304\n",
       "Name: Occupation, dtype: int64"
      ]
     },
     "execution_count": 164,
     "metadata": {},
     "output_type": "execute_result"
    }
   ],
   "source": [
    "dt['Occupation'].value_counts()"
   ]
  },
  {
   "cell_type": "markdown",
   "id": "54efec99",
   "metadata": {},
   "source": [
    "3. 'Type_of_Loan' PREPROCESSING"
   ]
  },
  {
   "cell_type": "code",
   "execution_count": 165,
   "id": "a5a45c36",
   "metadata": {},
   "outputs": [
    {
     "data": {
      "text/plain": [
       "8    11074\n",
       "Name: Type_of_Loan, dtype: int64"
      ]
     },
     "execution_count": 165,
     "metadata": {},
     "output_type": "execute_result"
    }
   ],
   "source": [
    "dt.groupby(\"Customer_ID\")[\"Type_of_Loan\"].value_counts().value_counts()"
   ]
  },
  {
   "cell_type": "code",
   "execution_count": 170,
   "id": "07cf3498",
   "metadata": {},
   "outputs": [
    {
     "data": {
      "text/plain": [
       "11408"
      ]
     },
     "execution_count": 170,
     "metadata": {},
     "output_type": "execute_result"
    }
   ],
   "source": [
    "dt[dt[\"Type_of_Loan\"].isna()][\"Customer_ID\"].count()"
   ]
  },
  {
   "cell_type": "markdown",
   "id": "429b8785",
   "metadata": {},
   "source": [
    "so for all non null values, each customer has the same values in this attribute "
   ]
  },
  {
   "cell_type": "code",
   "execution_count": 173,
   "id": "8cfafd9a",
   "metadata": {},
   "outputs": [
    {
     "data": {
      "text/plain": [
       "11408"
      ]
     },
     "execution_count": 173,
     "metadata": {},
     "output_type": "execute_result"
    }
   ],
   "source": [
    "dt[dt[\"Num_of_Loan\"] == 0][\"Customer_ID\"].count()"
   ]
  },
  {
   "cell_type": "markdown",
   "id": "fd92e1f4",
   "metadata": {},
   "source": [
    "so, all the customers with no loans has a nan value in the type of loan attribute"
   ]
  },
  {
   "cell_type": "code",
   "execution_count": 29,
   "id": "888dd4a5",
   "metadata": {},
   "outputs": [],
   "source": [
    "dt.loc[dt[\"Num_of_Loan\"] == 0, \"Type_of_Loan\"] = \"No Loan\" # replace nan values with \"No Loan\""
   ]
  },
  {
   "cell_type": "code",
   "execution_count": 175,
   "id": "457dcdc2",
   "metadata": {},
   "outputs": [
    {
     "name": "stdout",
     "output_type": "stream",
     "text": [
      "Every block of 8 rows has the same value.\n"
     ]
    }
   ],
   "source": [
    "# Check each block of 8 rows\n",
    "all_blocks_same = True  \n",
    "for i in range(0, len(dt[\"Type_of_Loan\"]), 8):\n",
    "    block = dt[\"Type_of_Loan\"][i:i+8]  # Get the block of 8 rows\n",
    "    if not block.eq(block.iloc[0]).all():  # Check if all values are the same\n",
    "        all_blocks_same = False\n",
    "        print(f\"Block starting at index {i} does not have the same values.\")\n",
    "        break\n",
    "\n",
    "if all_blocks_same:\n",
    "    print(\"Every block of 8 rows has the same value.\")"
   ]
  },
  {
   "cell_type": "code",
   "execution_count": 176,
   "id": "2c9349d3",
   "metadata": {},
   "outputs": [
    {
     "data": {
      "text/plain": [
       "0        Auto Loan, Credit-Builder Loan, Personal Loan,...\n",
       "1        Auto Loan, Credit-Builder Loan, Personal Loan,...\n",
       "2        Auto Loan, Credit-Builder Loan, Personal Loan,...\n",
       "3        Auto Loan, Credit-Builder Loan, Personal Loan,...\n",
       "4        Auto Loan, Credit-Builder Loan, Personal Loan,...\n",
       "                               ...                        \n",
       "99995                          Auto Loan, and Student Loan\n",
       "99996                          Auto Loan, and Student Loan\n",
       "99997                          Auto Loan, and Student Loan\n",
       "99998                          Auto Loan, and Student Loan\n",
       "99999                          Auto Loan, and Student Loan\n",
       "Name: Type_of_Loan, Length: 100000, dtype: object"
      ]
     },
     "execution_count": 176,
     "metadata": {},
     "output_type": "execute_result"
    }
   ],
   "source": [
    "dt[\"Type_of_Loan\"] "
   ]
  },
  {
   "cell_type": "code",
   "execution_count": 30,
   "id": "dbf86491",
   "metadata": {},
   "outputs": [],
   "source": [
    "dt[\"Type_of_Loan\"] = dt[\"Type_of_Loan\"].str.replace(\" and\", \"\", regex=False) # drop \"and\"\n",
    "dt[\"Type_of_Loan\"] = dt[\"Type_of_Loan\"].str.split(\", \") # split"
   ]
  },
  {
   "cell_type": "code",
   "execution_count": 178,
   "id": "beec788a",
   "metadata": {},
   "outputs": [
    {
     "data": {
      "text/plain": [
       "Payday Loan                40568\n",
       "Credit-Builder Loan        40440\n",
       "Not Specified              39616\n",
       "Home Equity Loan           39104\n",
       "Student Loan               38968\n",
       "Mortgage Loan              38936\n",
       "Personal Loan              38888\n",
       "Debt Consolidation Loan    38776\n",
       "Auto Loan                  37992\n",
       "No Loan                    11408\n",
       "Name: Type_of_Loan, dtype: int64"
      ]
     },
     "execution_count": 178,
     "metadata": {},
     "output_type": "execute_result"
    }
   ],
   "source": [
    "dt[\"Type_of_Loan\"].explode().value_counts()"
   ]
  },
  {
   "cell_type": "markdown",
   "id": "a57dea8d",
   "metadata": {},
   "source": [
    "4. 'Credit_Mix' PREPROCESSING"
   ]
  },
  {
   "cell_type": "code",
   "execution_count": 179,
   "id": "e35774bc",
   "metadata": {},
   "outputs": [
    {
     "data": {
      "text/plain": [
       "Standard    36479\n",
       "Good        24337\n",
       "_           20195\n",
       "Bad         18989\n",
       "Name: Credit_Mix, dtype: int64"
      ]
     },
     "execution_count": 179,
     "metadata": {},
     "output_type": "execute_result"
    }
   ],
   "source": [
    "dt['Credit_Mix'].value_counts()"
   ]
  },
  {
   "cell_type": "code",
   "execution_count": 31,
   "id": "0b7ed018",
   "metadata": {},
   "outputs": [],
   "source": [
    "dt.loc[dt[\"Credit_Mix\"] == \"_\", \"Credit_Mix\"] = pd.NA # replace _ with nan\n",
    "dt['Credit_Mix'] = dt.groupby(dt.index // 8)['Credit_Mix'].transform(lambda x: x.value_counts().idxmax())\n",
    "# keep the majority value for each client."
   ]
  },
  {
   "cell_type": "code",
   "execution_count": 181,
   "id": "fb97f9c9",
   "metadata": {},
   "outputs": [
    {
     "data": {
      "text/plain": [
       "Standard    45848\n",
       "Good        30384\n",
       "Bad         23768\n",
       "Name: Credit_Mix, dtype: int64"
      ]
     },
     "execution_count": 181,
     "metadata": {},
     "output_type": "execute_result"
    }
   ],
   "source": [
    "dt['Credit_Mix'].value_counts()"
   ]
  },
  {
   "cell_type": "markdown",
   "id": "d2142668",
   "metadata": {},
   "source": [
    "5. 'Payment_of_Min_Amount' PREPROCESSING"
   ]
  },
  {
   "cell_type": "code",
   "execution_count": 182,
   "id": "dcee9867",
   "metadata": {},
   "outputs": [
    {
     "data": {
      "text/plain": [
       "Yes    52326\n",
       "No     35667\n",
       "NM     12007\n",
       "Name: Payment_of_Min_Amount, dtype: int64"
      ]
     },
     "execution_count": 182,
     "metadata": {},
     "output_type": "execute_result"
    }
   ],
   "source": [
    "dt['Payment_of_Min_Amount'].value_counts()"
   ]
  },
  {
   "cell_type": "markdown",
   "id": "51806443",
   "metadata": {},
   "source": [
    "6. 'Payment_Behaviour' PREPROCESSING"
   ]
  },
  {
   "cell_type": "code",
   "execution_count": 183,
   "id": "3babf6ec",
   "metadata": {},
   "outputs": [
    {
     "data": {
      "text/plain": [
       "Low_spent_Small_value_payments      25513\n",
       "High_spent_Medium_value_payments    17540\n",
       "Low_spent_Medium_value_payments     13861\n",
       "High_spent_Large_value_payments     13721\n",
       "High_spent_Small_value_payments     11340\n",
       "Low_spent_Large_value_payments      10425\n",
       "!@9#%8                               7600\n",
       "Name: Payment_Behaviour, dtype: int64"
      ]
     },
     "execution_count": 183,
     "metadata": {},
     "output_type": "execute_result"
    }
   ],
   "source": [
    "dt['Payment_Behaviour'].value_counts()"
   ]
  },
  {
   "cell_type": "code",
   "execution_count": 32,
   "id": "f4e7b7a8",
   "metadata": {},
   "outputs": [
    {
     "name": "stderr",
     "output_type": "stream",
     "text": [
      "C:\\Users\\B590\\AppData\\Local\\Temp\\ipykernel_4932\\3012619834.py:5: FutureWarning: Series.fillna with 'method' is deprecated and will raise in a future version. Use obj.ffill() or obj.bfill() instead.\n",
      "  lambda x: x.fillna(method=\"ffill\").fillna(method=\"bfill\"))\n"
     ]
    }
   ],
   "source": [
    "dt.loc[(dt[\"Payment_Behaviour\"] == \"!@9#%8\"), \"Payment_Behaviour\"] = np.nan # convert the strange input to nan \n",
    "\n",
    "dt[\"Payment_Behaviour\"] = dt.groupby(                 # fill in nan values with the above or below ones in each client.\n",
    "    \"Customer_ID\")[\"Payment_Behaviour\"].transform(\n",
    "        lambda x: x.fillna(method=\"ffill\").fillna(method=\"bfill\"))\n"
   ]
  },
  {
   "cell_type": "code",
   "execution_count": 185,
   "id": "7e6cbbb6",
   "metadata": {},
   "outputs": [
    {
     "data": {
      "text/plain": [
       "Low_spent_Small_value_payments      27588\n",
       "High_spent_Medium_value_payments    19015\n",
       "Low_spent_Medium_value_payments     15012\n",
       "High_spent_Large_value_payments     14839\n",
       "High_spent_Small_value_payments     12244\n",
       "Low_spent_Large_value_payments      11302\n",
       "Name: Payment_Behaviour, dtype: int64"
      ]
     },
     "execution_count": 185,
     "metadata": {},
     "output_type": "execute_result"
    }
   ],
   "source": [
    "dt['Payment_Behaviour'].value_counts()"
   ]
  },
  {
   "cell_type": "code",
   "execution_count": 33,
   "id": "42742601",
   "metadata": {},
   "outputs": [],
   "source": [
    "# create a new csv file with the clean data.\n",
    "\n",
    "dt.to_csv('train_clean.csv', index=False)"
   ]
  },
  {
   "cell_type": "code",
   "execution_count": 34,
   "id": "cdd05568",
   "metadata": {},
   "outputs": [
    {
     "data": {
      "text/html": [
       "<div>\n",
       "<style scoped>\n",
       "    .dataframe tbody tr th:only-of-type {\n",
       "        vertical-align: middle;\n",
       "    }\n",
       "\n",
       "    .dataframe tbody tr th {\n",
       "        vertical-align: top;\n",
       "    }\n",
       "\n",
       "    .dataframe thead th {\n",
       "        text-align: right;\n",
       "    }\n",
       "</style>\n",
       "<table border=\"1\" class=\"dataframe\">\n",
       "  <thead>\n",
       "    <tr style=\"text-align: right;\">\n",
       "      <th></th>\n",
       "      <th>Age</th>\n",
       "      <th>Annual_Income</th>\n",
       "      <th>Monthly_Inhand_Salary</th>\n",
       "      <th>Num_Bank_Accounts</th>\n",
       "      <th>Num_Credit_Card</th>\n",
       "      <th>Interest_Rate</th>\n",
       "      <th>Num_of_Loan</th>\n",
       "      <th>Delay_from_due_date</th>\n",
       "      <th>Num_of_Delayed_Payment</th>\n",
       "      <th>Changed_Credit_Limit</th>\n",
       "      <th>Num_Credit_Inquiries</th>\n",
       "      <th>Outstanding_Debt</th>\n",
       "      <th>Credit_Utilization_Ratio</th>\n",
       "      <th>Credit_History_Age</th>\n",
       "      <th>Total_EMI_per_month</th>\n",
       "      <th>Amount_invested_monthly</th>\n",
       "      <th>Monthly_Balance</th>\n",
       "    </tr>\n",
       "  </thead>\n",
       "  <tbody>\n",
       "    <tr>\n",
       "      <th>count</th>\n",
       "      <td>100000.000000</td>\n",
       "      <td>100000.000000</td>\n",
       "      <td>100000.000000</td>\n",
       "      <td>100000.000000</td>\n",
       "      <td>100000.000000</td>\n",
       "      <td>100000.00000</td>\n",
       "      <td>100000.000000</td>\n",
       "      <td>100000.000000</td>\n",
       "      <td>100000.000000</td>\n",
       "      <td>100000.000000</td>\n",
       "      <td>100000.000000</td>\n",
       "      <td>100000.000000</td>\n",
       "      <td>100000.000000</td>\n",
       "      <td>100000.000000</td>\n",
       "      <td>100000.000000</td>\n",
       "      <td>100000.000000</td>\n",
       "      <td>100000.000000</td>\n",
       "    </tr>\n",
       "    <tr>\n",
       "      <th>mean</th>\n",
       "      <td>33.282000</td>\n",
       "      <td>50505.123449</td>\n",
       "      <td>4198.771619</td>\n",
       "      <td>5.369840</td>\n",
       "      <td>5.534720</td>\n",
       "      <td>14.53208</td>\n",
       "      <td>3.532880</td>\n",
       "      <td>21.068780</td>\n",
       "      <td>13.309920</td>\n",
       "      <td>10.389303</td>\n",
       "      <td>5.772820</td>\n",
       "      <td>1426.220376</td>\n",
       "      <td>32.285173</td>\n",
       "      <td>221.206880</td>\n",
       "      <td>105.543551</td>\n",
       "      <td>637.633423</td>\n",
       "      <td>403.067291</td>\n",
       "    </tr>\n",
       "    <tr>\n",
       "      <th>std</th>\n",
       "      <td>10.766568</td>\n",
       "      <td>38299.422093</td>\n",
       "      <td>3187.494355</td>\n",
       "      <td>2.592513</td>\n",
       "      <td>2.066736</td>\n",
       "      <td>8.74133</td>\n",
       "      <td>2.446356</td>\n",
       "      <td>14.860104</td>\n",
       "      <td>6.199614</td>\n",
       "      <td>6.789783</td>\n",
       "      <td>3.861137</td>\n",
       "      <td>1155.129026</td>\n",
       "      <td>5.116875</td>\n",
       "      <td>99.681112</td>\n",
       "      <td>125.810053</td>\n",
       "      <td>2043.334106</td>\n",
       "      <td>214.796265</td>\n",
       "    </tr>\n",
       "    <tr>\n",
       "      <th>min</th>\n",
       "      <td>14.000000</td>\n",
       "      <td>7005.930000</td>\n",
       "      <td>303.645417</td>\n",
       "      <td>0.000000</td>\n",
       "      <td>1.000000</td>\n",
       "      <td>1.00000</td>\n",
       "      <td>0.000000</td>\n",
       "      <td>-5.000000</td>\n",
       "      <td>-2.000000</td>\n",
       "      <td>-6.490000</td>\n",
       "      <td>0.000000</td>\n",
       "      <td>0.230000</td>\n",
       "      <td>20.000000</td>\n",
       "      <td>1.000000</td>\n",
       "      <td>0.000000</td>\n",
       "      <td>0.000000</td>\n",
       "      <td>0.007760</td>\n",
       "    </tr>\n",
       "    <tr>\n",
       "      <th>25%</th>\n",
       "      <td>24.000000</td>\n",
       "      <td>19342.972500</td>\n",
       "      <td>1626.761667</td>\n",
       "      <td>3.000000</td>\n",
       "      <td>4.000000</td>\n",
       "      <td>7.00000</td>\n",
       "      <td>2.000000</td>\n",
       "      <td>10.000000</td>\n",
       "      <td>9.000000</td>\n",
       "      <td>5.320000</td>\n",
       "      <td>3.000000</td>\n",
       "      <td>566.072500</td>\n",
       "      <td>28.052567</td>\n",
       "      <td>144.000000</td>\n",
       "      <td>29.049047</td>\n",
       "      <td>74.593752</td>\n",
       "      <td>270.034729</td>\n",
       "    </tr>\n",
       "    <tr>\n",
       "      <th>50%</th>\n",
       "      <td>33.000000</td>\n",
       "      <td>36999.705000</td>\n",
       "      <td>3096.378333</td>\n",
       "      <td>5.000000</td>\n",
       "      <td>5.000000</td>\n",
       "      <td>13.00000</td>\n",
       "      <td>3.000000</td>\n",
       "      <td>18.000000</td>\n",
       "      <td>14.000000</td>\n",
       "      <td>9.400000</td>\n",
       "      <td>5.000000</td>\n",
       "      <td>1166.155000</td>\n",
       "      <td>32.305784</td>\n",
       "      <td>219.000000</td>\n",
       "      <td>66.033915</td>\n",
       "      <td>135.952499</td>\n",
       "      <td>337.088852</td>\n",
       "    </tr>\n",
       "    <tr>\n",
       "      <th>75%</th>\n",
       "      <td>42.000000</td>\n",
       "      <td>71683.470000</td>\n",
       "      <td>5961.745000</td>\n",
       "      <td>7.000000</td>\n",
       "      <td>7.000000</td>\n",
       "      <td>20.00000</td>\n",
       "      <td>5.000000</td>\n",
       "      <td>28.000000</td>\n",
       "      <td>18.000000</td>\n",
       "      <td>14.860000</td>\n",
       "      <td>8.000000</td>\n",
       "      <td>1945.962500</td>\n",
       "      <td>36.496663</td>\n",
       "      <td>302.000000</td>\n",
       "      <td>145.582332</td>\n",
       "      <td>266.178238</td>\n",
       "      <td>471.553307</td>\n",
       "    </tr>\n",
       "    <tr>\n",
       "      <th>max</th>\n",
       "      <td>56.000000</td>\n",
       "      <td>179987.280000</td>\n",
       "      <td>15204.633333</td>\n",
       "      <td>10.000000</td>\n",
       "      <td>11.000000</td>\n",
       "      <td>34.00000</td>\n",
       "      <td>9.000000</td>\n",
       "      <td>67.000000</td>\n",
       "      <td>28.000000</td>\n",
       "      <td>36.970001</td>\n",
       "      <td>17.000000</td>\n",
       "      <td>4998.070000</td>\n",
       "      <td>50.000000</td>\n",
       "      <td>404.000000</td>\n",
       "      <td>1779.103254</td>\n",
       "      <td>10000.000000</td>\n",
       "      <td>1602.040527</td>\n",
       "    </tr>\n",
       "  </tbody>\n",
       "</table>\n",
       "</div>"
      ],
      "text/plain": [
       "                 Age  Annual_Income  Monthly_Inhand_Salary  Num_Bank_Accounts  \\\n",
       "count  100000.000000  100000.000000          100000.000000      100000.000000   \n",
       "mean       33.282000   50505.123449            4198.771619           5.369840   \n",
       "std        10.766568   38299.422093            3187.494355           2.592513   \n",
       "min        14.000000    7005.930000             303.645417           0.000000   \n",
       "25%        24.000000   19342.972500            1626.761667           3.000000   \n",
       "50%        33.000000   36999.705000            3096.378333           5.000000   \n",
       "75%        42.000000   71683.470000            5961.745000           7.000000   \n",
       "max        56.000000  179987.280000           15204.633333          10.000000   \n",
       "\n",
       "       Num_Credit_Card  Interest_Rate    Num_of_Loan  Delay_from_due_date  \\\n",
       "count    100000.000000   100000.00000  100000.000000        100000.000000   \n",
       "mean          5.534720       14.53208       3.532880            21.068780   \n",
       "std           2.066736        8.74133       2.446356            14.860104   \n",
       "min           1.000000        1.00000       0.000000            -5.000000   \n",
       "25%           4.000000        7.00000       2.000000            10.000000   \n",
       "50%           5.000000       13.00000       3.000000            18.000000   \n",
       "75%           7.000000       20.00000       5.000000            28.000000   \n",
       "max          11.000000       34.00000       9.000000            67.000000   \n",
       "\n",
       "       Num_of_Delayed_Payment  Changed_Credit_Limit  Num_Credit_Inquiries  \\\n",
       "count           100000.000000         100000.000000         100000.000000   \n",
       "mean                13.309920             10.389303              5.772820   \n",
       "std                  6.199614              6.789783              3.861137   \n",
       "min                 -2.000000             -6.490000              0.000000   \n",
       "25%                  9.000000              5.320000              3.000000   \n",
       "50%                 14.000000              9.400000              5.000000   \n",
       "75%                 18.000000             14.860000              8.000000   \n",
       "max                 28.000000             36.970001             17.000000   \n",
       "\n",
       "       Outstanding_Debt  Credit_Utilization_Ratio  Credit_History_Age  \\\n",
       "count     100000.000000             100000.000000       100000.000000   \n",
       "mean        1426.220376                 32.285173          221.206880   \n",
       "std         1155.129026                  5.116875           99.681112   \n",
       "min            0.230000                 20.000000            1.000000   \n",
       "25%          566.072500                 28.052567          144.000000   \n",
       "50%         1166.155000                 32.305784          219.000000   \n",
       "75%         1945.962500                 36.496663          302.000000   \n",
       "max         4998.070000                 50.000000          404.000000   \n",
       "\n",
       "       Total_EMI_per_month  Amount_invested_monthly  Monthly_Balance  \n",
       "count        100000.000000            100000.000000    100000.000000  \n",
       "mean            105.543551               637.633423       403.067291  \n",
       "std             125.810053              2043.334106       214.796265  \n",
       "min               0.000000                 0.000000         0.007760  \n",
       "25%              29.049047                74.593752       270.034729  \n",
       "50%              66.033915               135.952499       337.088852  \n",
       "75%             145.582332               266.178238       471.553307  \n",
       "max            1779.103254             10000.000000      1602.040527  "
      ]
     },
     "execution_count": 34,
     "metadata": {},
     "output_type": "execute_result"
    }
   ],
   "source": [
    "dt.describe()"
   ]
  },
  {
   "cell_type": "code",
   "execution_count": 35,
   "id": "9aea756c",
   "metadata": {},
   "outputs": [
    {
     "name": "stdout",
     "output_type": "stream",
     "text": [
      "<class 'pandas.core.frame.DataFrame'>\n",
      "RangeIndex: 100000 entries, 0 to 99999\n",
      "Data columns (total 28 columns):\n",
      " #   Column                    Non-Null Count   Dtype  \n",
      "---  ------                    --------------   -----  \n",
      " 0   ID                        100000 non-null  object \n",
      " 1   Customer_ID               100000 non-null  object \n",
      " 2   Month                     100000 non-null  object \n",
      " 3   Name                      100000 non-null  object \n",
      " 4   Age                       100000 non-null  float64\n",
      " 5   SSN                       100000 non-null  object \n",
      " 6   Occupation                100000 non-null  object \n",
      " 7   Annual_Income             100000 non-null  float64\n",
      " 8   Monthly_Inhand_Salary     100000 non-null  float64\n",
      " 9   Num_Bank_Accounts         100000 non-null  int64  \n",
      " 10  Num_Credit_Card           100000 non-null  int64  \n",
      " 11  Interest_Rate             100000 non-null  int64  \n",
      " 12  Num_of_Loan               100000 non-null  int64  \n",
      " 13  Type_of_Loan              100000 non-null  object \n",
      " 14  Delay_from_due_date       100000 non-null  int64  \n",
      " 15  Num_of_Delayed_Payment    100000 non-null  float64\n",
      " 16  Changed_Credit_Limit      100000 non-null  float32\n",
      " 17  Num_Credit_Inquiries      100000 non-null  float64\n",
      " 18  Credit_Mix                100000 non-null  object \n",
      " 19  Outstanding_Debt          100000 non-null  float64\n",
      " 20  Credit_Utilization_Ratio  100000 non-null  float64\n",
      " 21  Credit_History_Age        100000 non-null  float64\n",
      " 22  Payment_of_Min_Amount     100000 non-null  object \n",
      " 23  Total_EMI_per_month       100000 non-null  float64\n",
      " 24  Amount_invested_monthly   100000 non-null  float32\n",
      " 25  Payment_Behaviour         100000 non-null  object \n",
      " 26  Monthly_Balance           100000 non-null  float32\n",
      " 27  Credit_Score              100000 non-null  object \n",
      "dtypes: float32(3), float64(9), int64(5), object(11)\n",
      "memory usage: 20.2+ MB\n"
     ]
    }
   ],
   "source": [
    "dt.info()"
   ]
  },
  {
   "cell_type": "code",
   "execution_count": null,
   "id": "226a2895",
   "metadata": {},
   "outputs": [],
   "source": []
  }
 ],
 "metadata": {
  "kernelspec": {
   "display_name": "Python 3 (ipykernel)",
   "language": "python",
   "name": "python3"
  },
  "language_info": {
   "codemirror_mode": {
    "name": "ipython",
    "version": 3
   },
   "file_extension": ".py",
   "mimetype": "text/x-python",
   "name": "python",
   "nbconvert_exporter": "python",
   "pygments_lexer": "ipython3",
   "version": "3.9.12"
  }
 },
 "nbformat": 4,
 "nbformat_minor": 5
}
